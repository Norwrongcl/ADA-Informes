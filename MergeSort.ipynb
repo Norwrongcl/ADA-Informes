{
  "nbformat": 4,
  "nbformat_minor": 0,
  "metadata": {
    "colab": {
      "name": "Merge_Sort.ipynb",
      "provenance": [],
      "authorship_tag": "ABX9TyOmSnNof8WhrpO82SznkAVn",
      "include_colab_link": true
    },
    "kernelspec": {
      "name": "python3",
      "display_name": "Python 3"
    },
    "language_info": {
      "name": "python"
    }
  },
  "cells": [
    {
      "cell_type": "markdown",
      "metadata": {
        "id": "view-in-github",
        "colab_type": "text"
      },
      "source": [
        "<a href=\"https://colab.research.google.com/github/Norwrongcl/ADA-Informes/blob/main/MergeSort.ipynb\" target=\"_parent\"><img src=\"https://colab.research.google.com/assets/colab-badge.svg\" alt=\"Open In Colab\"/></a>"
      ]
    },
    {
      "cell_type": "markdown",
      "source": [
        "# 1. MergeSort\n",
        "\n",
        "**Entrada**: Cadena de n números $[a_1,a_2,...,a_n]$\n",
        "\n",
        "**Salida**: Secuencia ordenada de la entrada: $[a_1',a_2',...,a_n']$, tal que se cumple:  $a_1'\\leq a_2' \\leq... \\leq a_n'$.\n",
        "\n",
        "![image](https://i.imgur.com/OvIrUNf.png)\n",
        "\n",
        "**Problema**: Tenemos un arreglos de n elementos numéricos los cuales queremos ordenar de menor a mayor para esto existen bastantes algoritmos de ordenamiento que han sido desarrollados a través del tiempo, tal vez, unos más eficientes que otros a pesar de su similaridad. El algoritmo expuesto en este informe se baza el paradigma de divide y venceras, esto quiere decir que el algoritmo dividira la lista el elementos cada vez mas pequeños y luego los volvera a unir pero de forma ya ordenada.\n",
        "\n"
      ],
      "metadata": {
        "id": "jT2qsbCS3Fzu"
      }
    },
    {
      "cell_type": "markdown",
      "source": [
        "# 2. MergeSort\n",
        "\n",
        "El siguiente código muestra una implementación del algoritmo **MergeSort**."
      ],
      "metadata": {
        "id": "nn1Sn60L3mrJ"
      }
    },
    {
      "cell_type": "code",
      "execution_count": null,
      "metadata": {
        "id": "X6zMAoC1aos8",
        "colab": {
          "base_uri": "https://localhost:8080/"
        },
        "outputId": "aa01b027-0c8f-44ac-c4d4-b4dce2f555dc"
      },
      "outputs": [
        {
          "output_type": "stream",
          "name": "stdout",
          "text": [
            "\u001b[2m\u001b[1m\u001b[33mEntrada: [4, 7, 2, 3, 5, 6]\n",
            "\u001b[0m\n",
            "\u001b[2m\u001b[5m\u001b[1m\u001b[32mSalida: [2, 3, 4, 5, 6, 7]\u001b[0m\n",
            "\u001b[2m\u001b[5m\u001b[1m\u001b[32mLlamadas recursivas: 10\u001b[0m\n",
            "\u001b[2m\u001b[5m\u001b[1m\u001b[32mComparaciones: 10\u001b[0m\n"
          ]
        }
      ],
      "source": [
        "import random\n",
        "import termcolor\n",
        "\n",
        "def merge(sl, sr, verbose):\n",
        "  global cont\n",
        "  templist=[]\n",
        "  while len(sl)>0 and len(sr)>0:\n",
        "\n",
        "    if sl[0]<sr[0]:\n",
        "      templist.append(sl[0])\n",
        "      cont+=1\n",
        "      if verbose==True:\n",
        "        termcolor.cprint(f\"Lista ordenandose: {templist}\\n\",'green',attrs=['bold','underline','dark'])\n",
        "      sl=sl[1:]\n",
        "\n",
        "\n",
        "    else:\n",
        "      templist.append(sr[0])\n",
        "      cont+=1\n",
        "      if verbose==True:\n",
        "        termcolor.cprint(f\"Lista ordenandose: {templist}\\n\",'green',attrs=['bold','underline','dark'])\n",
        "      sr=sr[1:]\n",
        "\n",
        "  \n",
        "  if len(sl)>0:\n",
        "    templist+=sl\n",
        "\n",
        "  if len(sr)>0:\n",
        "    templist+=sr\n",
        "\n",
        "  if verbose==True:\n",
        "        termcolor.cprint(f\"Lista ordenanda: {templist}\\n\",'cyan',attrs=['bold'])\n",
        "\n",
        "  return templist\n",
        "\n",
        "def merge_sort(List, verbose):\n",
        "  global recur\n",
        "  if len(List)== 1:\n",
        "    return List\n",
        "  mid= len(List)// 2\n",
        "  l= List[:mid]\n",
        "  r= List[mid:]\n",
        "  if verbose==True:\n",
        "      termcolor.cprint(f\"Parte izquierda: {l}\",'blue')\n",
        "      termcolor.cprint(f\"Parte derecha: {r}\\n\",'magenta')\n",
        "  recur+=1\n",
        "  sl= merge_sort(l, verbose)\n",
        "  recur+=1\n",
        "  sr= merge_sort(r, verbose)\n",
        "  \n",
        "  return merge(sl, sr, verbose)\n",
        "\n",
        "cont=0\n",
        "recur=0    \n",
        "List= [4,7,2,3,5,6]\n",
        "termcolor.cprint(f\"Entrada: {List}\\n\",'yellow',attrs=['bold','dark'])\n",
        "termcolor.cprint(f\"Salida: {merge_sort(List, verbose=False)}\",'green',attrs=['bold','blink','dark'])\n",
        "termcolor.cprint(f\"Llamadas recursivas: {recur}\",'green',attrs=['bold','blink','dark'])\n",
        "termcolor.cprint(f\"Comparaciones: {cont}\",'green',attrs=['bold','blink','dark'])\n",
        "\n",
        "\n",
        "def test(List,verbose=False):\n",
        "  global cont\n",
        "  a=List\n",
        "  merge_sort(a,verbose=False)\n",
        "  return cont"
      ]
    },
    {
      "cell_type": "markdown",
      "source": [
        "## 2.2. Descripción del algoritmo\n",
        "\n",
        "*Merge Sort*, utiliza el paradigma de divide y venceras dividiendo la lista en partes cada vez más pequeñas hasta que solo quedan los elementos separados. A partir de ahí, vuelve a unir estas partes, asegurando que las listas estén ordenadas.\n",
        "\n",
        "El algoritmo recibe como entrada una lista (o arreglo) $L$ con la secuencia de $n$ elementos que queremos ordenar. Luego, esta lista es dividida en partes hasta que quede un elemento en la última división.\n",
        "\n",
        "1. La lista se divide a la mitad en cada llamada recursiva hasta obtener dos elementos adyacentes (es decir, un subarreglo con solo 2 elementos), siempre verificando que el largo de esta lista no sea 1.\n",
        "\n",
        "2. Cuando la lista ya es completamente divida en partes puequeñas, estas partes se van uniendo nuevamente en otra lista, pero al momento de insertarlas, ya están ordenadas.\n",
        "\n",
        "3. Al final de este bucle, una de las mitades puede no haber sido recorrida por completo pero sus valores simplemente se asignan a las ranuras restantes de la lista.\n",
        "\n",
        "4. Al final, se imprime en pantalla la lista o arreglo ordenado y retorna un contador de comparaciones: `cont`.\n",
        "\n",
        "\n",
        "![image](https://i.imgur.com/ymeB2Nv.png)\n",
        "\n",
        "Cuando la variable `verbose` == `True` se muestra información para ver lo que pasa paso a paso dentro de la función."
      ],
      "metadata": {
        "id": "XHIw15F97CnZ"
      }
    },
    {
      "cell_type": "markdown",
      "source": [
        "## 2.3. Ejemplo\n",
        "\n",
        "Consideremos, por ejemplo, la lista:\n",
        "\n",
        "*List* = $[4,3,5,1]$\n",
        "\n",
        "En la primera pasada dividimos la lista en 2:\n",
        "\n",
        "*l* = $[4,3]$  y *r* =$[5,1]$\n",
        "\n",
        "Luego, en la segunda pasada cada lista se divide en otras 2:\n",
        "\n",
        "*l.l* = $[4]$ y *l.r* = $[3]$ ;  *r.l* = $[5]$ y *r.r* = $[1]$\n",
        "\n",
        "Luego, viene la parte  de \"*Conquistar*\", donde empezamos a rearmar y comparar: \n",
        "\n",
        "*l* = $[3,4]$  y *r* =$[1,5]$\n",
        "\n",
        "En este paso se va comparando posicion por posicion buscando el menor para agregarlo al arreglo final:\n",
        "\n",
        "$3\\leq1$?\n",
        "\n",
        "Despues:\n",
        "\n",
        "*templist* = $[1]$\n",
        "\n",
        "$3\\leq5$?\n",
        "\n",
        "*templist* = $[1,3]$\n",
        "\n",
        "$4\\leq5$?\n",
        "\n",
        "*templist* = $[1,3,4]$\n",
        "\n",
        "y por ultimo, queda el 5 solo, asi que lo agregamos\n",
        "\n",
        "*templist* = $[1,3,4,5]$\n"
      ],
      "metadata": {
        "id": "o0BhPA6mio_M"
      }
    },
    {
      "cell_type": "markdown",
      "source": [
        "## 2.4. Ejecución del algoritmo paso a paso (`verbose=True`)\n",
        "\n",
        "Usando la opción `verbose=True`, podemos ver lo que ocurre en cada iteración del algoritmo."
      ],
      "metadata": {
        "id": "5TZnpkE0dgta"
      }
    },
    {
      "cell_type": "code",
      "source": [
        "import random\n",
        "large= random.randint(1,10)\n",
        "List = random.sample(range(1, 100), large)\n",
        "termcolor.cprint(f\"Largo del arreglo: {large}\",'red',attrs=['bold','dark'])\n",
        "termcolor.cprint(f\"Entrada: {List}\\n\",'yellow',attrs=['bold','dark'])\n",
        "List= merge_sort(List, verbose=True)\n",
        "termcolor.cprint(f\"Salida: {merge_sort(List, verbose=False)}\",'green',attrs=['bold','blink','dark'])"
      ],
      "metadata": {
        "id": "H_93UBKv8VQl",
        "colab": {
          "base_uri": "https://localhost:8080/"
        },
        "outputId": "764893f5-df6c-4410-bbab-7286d4476ff2"
      },
      "execution_count": null,
      "outputs": [
        {
          "output_type": "stream",
          "name": "stdout",
          "text": [
            "\u001b[2m\u001b[1m\u001b[31mLargo del arreglo: 3\u001b[0m\n",
            "\u001b[2m\u001b[1m\u001b[33mEntrada: [47, 32, 61]\n",
            "\u001b[0m\n",
            "\u001b[34mParte izquierda: [47]\u001b[0m\n",
            "\u001b[35mParte derecha: [32, 61]\n",
            "\u001b[0m\n",
            "\u001b[34mParte izquierda: [32]\u001b[0m\n",
            "\u001b[35mParte derecha: [61]\n",
            "\u001b[0m\n",
            "\u001b[2m\u001b[4m\u001b[1m\u001b[32mLista ordenandose: [32]\n",
            "\u001b[0m\n",
            "\u001b[1m\u001b[36mLista ordenanda: [32, 61]\n",
            "\u001b[0m\n",
            "\u001b[2m\u001b[4m\u001b[1m\u001b[32mLista ordenandose: [32]\n",
            "\u001b[0m\n",
            "\u001b[2m\u001b[4m\u001b[1m\u001b[32mLista ordenandose: [32, 47]\n",
            "\u001b[0m\n",
            "\u001b[1m\u001b[36mLista ordenanda: [32, 47, 61]\n",
            "\u001b[0m\n",
            "\u001b[2m\u001b[5m\u001b[1m\u001b[32mSalida: [32, 47, 61]\u001b[0m\n"
          ]
        }
      ]
    },
    {
      "cell_type": "markdown",
      "source": [
        "# 3. Correctitud\n",
        "\n",
        "### **Teorema (Correctitud).**\n",
        "\n",
        "El algoritmo Merge genera un arreglo: $[a_1',a_2',...,a_n']$, con los mismos elementos de los subarreglos de entrada ordenados de menor a mayor, es decir, $a_1'\\leq a_2' \\leq... \\leq a_n'$.\n",
        "\n",
        "\n",
        "## Prueba del Teorema\n",
        "**Inicialización**\n",
        "\n",
        "Al comienzo, la función merge_sort entrega 2 arreglos ordenados, ya que siempre divide los arreglos hasta que el largo sea 1.\n",
        "\n",
        "**Mantención**\n",
        "\n",
        "la función merge recibe estos arreglos y los va ordenando en un arreglo más grande eh aquí la **Propiedad de bucle invariante**, ya que cuando comienza a reincorporar los elemento en un solo arreglo, los primeros elementos se mantienen ordenados.\n",
        "\n",
        "![image](https://i.imgur.com/2qhJq0u.png)\n",
        "\n",
        "Se puede observar en la imagen que los arreglos solos ya están ordenados.\n",
        "\n",
        "**Correctitud**\n",
        "\n",
        "Como la propiedad de bucle invariante es verdadera al incio del bucle y se mantiene en cada iteración, podemos decir que al **finalizar la i-ésima iteración del algoritmo**, se que genera un arreglo $[a_1',a_2',...,a_n']$, con los mismos elementos del arreglo de entrada ordenados de menor a mayor."
      ],
      "metadata": {
        "id": "-ifxrrqlC4Hc"
      }
    },
    {
      "cell_type": "markdown",
      "source": [
        "# 4. Tiempo de ejecución\n",
        "\n",
        "### **Teorema (Tiempo de ejecución).**\n",
        "\n",
        "*El algoritmo **MergeSort** tiene un **tiempo de ejecución de** $O(n*log (n))$ aunque sea una lista o arreglo independientemente de su orden, esto se debe a que sin importar del orden, el algoritmo siempre dividira el arreglo hasta el último elemento.\n",
        "Por otro lado la función **Merge** tiene un **tiempo de ejecución de** $O(n)$*, ya que lo que hace esta función es ordenar.\n",
        "\n",
        "## Prueba del teorema\n",
        "![image](https://i.imgur.com/x4AMqvb.png)\n"
      ],
      "metadata": {
        "id": "NmzbekC-4NNC"
      }
    },
    {
      "cell_type": "markdown",
      "source": [
        "# 5. Experimentos\n",
        "\n",
        "## 5.1. Número de comparaciones\n",
        "\n",
        "A continuación se muestra gráficamente una comparación entre:\n",
        "\n",
        "* Comparar el número de comparaciones realizadas experimentalmente con el mejor y peor caso teóricos.\n",
        "* Comparar el algoritmo MergeSort, con InsertionSort.\n",
        "\n",
        "Los arreglos de entrada son generados aleatoriamente haciendo un sampling de un conjunto de números entre 1 y 100."
      ],
      "metadata": {
        "id": "2hYUM_9OHF38"
      }
    },
    {
      "cell_type": "code",
      "source": [
        "import matplotlib.pyplot as plt\n",
        "import math\n",
        "\n",
        "x= [n for n in range(5,100)]\n",
        "y=[]\n",
        "\n",
        "cont=0\n",
        "for n in range(5,100):\n",
        "  List= random.sample(range(1, 100), n)\n",
        "  cont = test(List, verbose=False)\n",
        "  y.append(cont)\n",
        "\n",
        "plt.plot(x,y,\"k\",lw=7)\n",
        "plt.plot(x,y,\"y-.\",lw=2)\n",
        "plt.legend([\"theoretical worst case\", \"theoretical best case\"])\n",
        "\n",
        "plt.title(\"Comparaciones realizadas en el mejor y peor caso Merge Sort\", fontsize=14)\n",
        "plt.xlabel('n')\n",
        "plt.ylabel('number of comparations')\n",
        "plt.show()"
      ],
      "metadata": {
        "colab": {
          "base_uri": "https://localhost:8080/",
          "height": 296
        },
        "id": "LxKv6b1WE-t8",
        "outputId": "50e1d847-51af-415d-d36a-6d25a837a9f5"
      },
      "execution_count": null,
      "outputs": [
        {
          "output_type": "display_data",
          "data": {
            "text/plain": [
              "<Figure size 432x288 with 1 Axes>"
            ],
            "image/png": "[encoded data removed]"
          },
          "metadata": {
            "needs_background": "light"
          }
        }
      ]
    },
    {
      "cell_type": "markdown",
      "source": [
        "### Análisis de resultados\n",
        "\n",
        "En el gráfico se puede apreciar que, como cabía de esperar, en ambos casos la cantidad de comparaciones es identica, esto se debe a que no existe un mejor o peor caso y que siempre depende de el largo del arreglo cuantas divisiones hará el algoritmo."
      ],
      "metadata": {
        "id": "0LpupLb_HnWS"
      }
    },
    {
      "cell_type": "code",
      "source": [
        "#IMPORTANDO INSERTION SORT\n",
        "\n",
        "def insertion_sort(list,verbose=False): #Funcion InsertionSort\n",
        "   temp=0\n",
        "   if verbose== True: \n",
        "    print(\"Entrada:\",list)\n",
        "   for i in range(1,len(list)):  #Comienza a recorrer el arreglo desde la posicion 1, ya que se asume que la posicion 0 está ordenada\n",
        "     sorted= True\n",
        "     if verbose== True: \n",
        "        print(\"\\nPasada\",i)\n",
        "     aux= list[i]\n",
        "     j= i-1\n",
        "     while (j>= 0) and (aux< list[j]): #Cuando se compara el valor de la casilla j con el valor de la casilla j-1,   si los valores  j < j-1 , se reemplazan, \n",
        "              sorted=False\n",
        "              list[j+1]= list[j]        # y se siguen comparando los valores anteriores mientras quedes casillas a la izquierda.\n",
        "              j-= 1\n",
        "              temp+= 1\n",
        "              \n",
        "     list[j+1]= aux\n",
        "     if j>= 0: #Para contar casos aparte, es decir, se cuentan las comparaciones cuando los elementos se mueven de posición\n",
        "        temp+= 1\n",
        "\n",
        "    \n",
        "\n",
        "   \n",
        "\n",
        "   return list ,temp\n",
        "\n"
      ],
      "metadata": {
        "id": "_n4WskdPRdnf"
      },
      "execution_count": null,
      "outputs": []
    },
    {
      "cell_type": "code",
      "source": [
        "import matplotlib.pyplot as plt\n",
        "import math\n",
        "\n",
        "x= [n for n in range(5,100)]\n",
        "y1=[n*(n-1)/2 for n in range(5,100)] # worst case\n",
        "y2=[n-1 for n in range(5,100)] # best case \n",
        "y=[]\n",
        "ins=[]\n",
        "cont=0\n",
        "cont2=0\n",
        "\n",
        "for n in range(5,100):\n",
        "  List= random.sample(range(1, 100), n)\n",
        "  cont = test(List, verbose=False)# Se llama a merge_sort\n",
        "  y.append(cont)\n",
        "  list, cont2 = insertion_sort(List, verbose=False)\n",
        "  ins.append(cont2)\n",
        "\n",
        "\n",
        "plt.plot(x,ins,\"b-\",lw=2) #caso teorico de insertion sort\n",
        "plt.plot(x,y,\"m-\",lw=2) #caso teorico de merge sort\n",
        "plt.plot(x,y1,\"r--\",lw=2) # worst case of insertio sort\n",
        "plt.plot(x,y2,\"g-.\",lw=2) # best case of insertio sort\n",
        "\n",
        "plt.legend([\"insertion sort\",\"merge sort\",\"theoretical worst case of insertio sort\", \"theoretical best case of insertio sort\"])\n",
        "\n",
        "plt.title(\"Cantidad de comparaciones realizadas en el mejor y peor caso de Insertion Sort respecto a Merge Sort\", fontsize=10)\n",
        "plt.xlabel('n')\n",
        "plt.ylabel('number of comparations')\n",
        "plt.show()"
      ],
      "metadata": {
        "colab": {
          "base_uri": "https://localhost:8080/",
          "height": 293
        },
        "id": "n5fd1HL_RnWH",
        "outputId": "aea0ec5b-a016-4d22-c391-62f41b9a37cb"
      },
      "execution_count": null,
      "outputs": [
        {
          "output_type": "display_data",
          "data": {
            "text/plain": [
              "<Figure size 432x288 with 1 Axes>"
            ],
            "image/png": "[encoded data removed]"
          },
          "metadata": {
            "needs_background": "light"
          }
        }
      ]
    },
    {
      "cell_type": "markdown",
      "source": [
        "### Análisis de resultados\n",
        "\n",
        "En este gráfico se puede apreciar que, la cantidad de comparaciones que realiza merge sort se dispara en relacion al algoritmo de Insertion Sort, esto se debe a sus complejidades $O(n^2)$, por parte de Insertion Sort y $O(n*log(n)$ de Merge Sort."
      ],
      "metadata": {
        "id": "LYbPO0OjeGVe"
      }
    }
  ]
}