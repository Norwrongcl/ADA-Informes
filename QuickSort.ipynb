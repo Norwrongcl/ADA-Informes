{
  "nbformat": 4,
  "nbformat_minor": 0,
  "metadata": {
    "colab": {
      "provenance": [],
      "collapsed_sections": [],
      "authorship_tag": "ABX9TyMV5jc6kN7gBeHa4LbCgnIf",
      "include_colab_link": true
    },
    "kernelspec": {
      "name": "python3",
      "display_name": "Python 3"
    },
    "language_info": {
      "name": "python"
    }
  },
  "cells": [
    {
      "cell_type": "markdown",
      "metadata": {
        "id": "view-in-github",
        "colab_type": "text"
      },
      "source": [
        "<a href=\"https://colab.research.google.com/github/Norwrongcl/ADA-Informes/blob/main/QuickSort.ipynb\" target=\"_parent\"><img src=\"https://colab.research.google.com/assets/colab-badge.svg\" alt=\"Open In Colab\"/></a>"
      ]
    },
    {
      "cell_type": "markdown",
      "source": [
        "# 1. Ordenamiento Secuencial\n",
        "\n",
        "**Entrada**: Cadena de n números $[a_1,a_2,...,a_n]$\n",
        "\n",
        "**Salida**: Secuencia ordenada de la entrada: $[a_1',a_2',...,a_n']$, tal que se cumple:  $a_1'\\leq a_2' \\leq... \\leq a_n'$.\n",
        "\n",
        "![quicksort animation](https://curriculum-content.s3.amazonaws.com/data-structures-and-algorithms/quicksort/quick_sort_partition_animation.gif)\n",
        "\n",
        "Existen bastantes algoritmos de ordenamiento que han sido desarrollados a través del tiempo, tal vez, unos más eficientes que otros a pesar de su similaridad. El algoritmo expuesto en este informe es uno de los más eficiente, ya que aplica el paradigma de divide y vencerás (como merge sort), ya que el ordenamiento de arreglos más pequeños facilita el reordenamiento en el arreglo principal. Aunque *QuickSort* no necesita de auxiliares para ordenarse.\n",
        "\n",
        "Este algoritmo fue desarrollado por **Tony Hoare** en el año 1959.\n",
        "\n"
      ],
      "metadata": {
        "id": "jT2qsbCS3Fzu"
      }
    },
    {
      "cell_type": "markdown",
      "source": [
        "# 2. QuickSort\n",
        "\n",
        "El siguiente código muestra una implementación del algoritmo **QuickSort**."
      ],
      "metadata": {
        "id": "nn1Sn60L3mrJ"
      }
    },
    {
      "cell_type": "code",
      "source": [
        "import random\n",
        "import statistics\n",
        "from termcolor import cprint\n",
        "import matplotlib.pyplot as plt\n",
        "import math\n",
        "cont= 0\n",
        "\n",
        "\n",
        "def mediana(x, y, z,verbose):                                                         # Función que busca la mediana entre tres números\n",
        "  t= [x, y, z]\n",
        "  if verbose == True: cprint(f\"Elementos recibidos: {t}\\n\",'magenta',attrs=['bold'])\n",
        "\n",
        "  med= statistics.median(t)                                                           # Calcula la mediana\n",
        "  if verbose == True: cprint(f\"Mediana de elementos recibidos: {med}\\n\",'green',attrs=['bold'])\n",
        "  return med\n",
        "\n",
        "\n",
        "\n",
        "# Partition con ultimo elemento como pivote\n",
        "\n",
        "def lastpartition(l, c, f, verbose):\n",
        "  global cont\n",
        "  if verbose == True:\n",
        "    cprint(\"Llamada a partition con pivote en el ultimo elemento\\n\",'red',attrs=['bold','underline'])\n",
        "    cprint(f\"\\nArreglo a dividir: {l[c:f+1]}\\n\",'magenta',attrs=['bold'])\n",
        "  \n",
        "  pivot = l[f]                                                                        # Último elemento como pivote\n",
        "  if verbose == True: cprint(f\"Pivote: [{l[f]}]\",'yellow')\n",
        "  x= c                                                                                # El puntero de intercambio se inicializa como el incio de la lista\n",
        "  \n",
        "  for i in range(c, f):                                                               # El puntero j recorre todo el intervalo\n",
        "    if l[i] <= pivot:                                                                 # Si l[j] es menor o igual al pivote se realiza el intercambio\n",
        "      if verbose == True: cprint(f\"Se intecambió {l[i]}, es menor al pivote {pivot}\",'magenta',attrs=['bold'])\n",
        "      l[i], l[x] = l[x], l[i]                                                         # Se intercambian las posiciones de l[j] y l[i] \n",
        "      x+= 1                                                                           # Se acota el intervalo\n",
        "      if verbose == True: cprint(f\"Arreglo actual: {l[c:f+1]}\",'blue',attrs=['bold','underline'])\n",
        "      cont+= 1\n",
        "  l[x], l[f] = l[f], l[x]\n",
        "\n",
        "  if verbose == True:\n",
        "    cprint(f\"Arreglo particionado: {l[c:f+1]}\\n\",'yellow',attrs=['bold','underline'])\n",
        "  return x                                                                            # El nuevo pivote es la posición x de nuestro arreglo\n",
        "\n",
        "\n",
        "\n",
        "# Partition con primer elemento como pivote\n",
        "\n",
        "def firstpartition(l, c, f, verbose):\n",
        "  global cont\n",
        "  if verbose == True:\n",
        "    cprint(\"Llamada a partition con pivote en el primer elemento\\n\",'red',attrs=['bold','underline'])\n",
        "    cprint(f\"\\nArreglo a dividir: {l[c:f+1]}\\n\",'magenta',attrs=['bold'])\n",
        "\n",
        "  pivot = l[c]                                                                        # Primer elemento como pivote\n",
        "  if verbose == True: print(f\"Pivote: [{l[c]}]\")\n",
        "  x= c+1                                                                              # El índice que define left es el siguiente a c\n",
        "\n",
        "  for i in range(c+1,f+1):                                                            # El índice i recorre desde la posición x hasta el último elemento\n",
        "    if l[i] <= pivot:                                                                 # Si l[j] es menor o igual al pivote se realiza el intercambio\n",
        "      if verbose == True: cprint(f\"Se intecambió {l[i]}, es menor al pivote {pivot}\",'yellow')\n",
        "      cont+= 1\n",
        "      l[x], l[i] = l[i], l[x]                                                         # Intercambio de las posiciones de l[i] con l[x]\n",
        "      x+= 1                                                                           # El índice izquierdo avanza una posición\n",
        "      if verbose == True: cprint(f\"Arreglo actual: {l[c:f+1]}\",'cyan')\n",
        "  l[c], l[x-1] = l[x-1], l[c]                                                      \n",
        "\n",
        "  if verbose == True: cprint(f\"Arreglo particionado: {l[c:f+1]}\",'yellow')\n",
        "  return x-1                                                                          # Retornamos como pivote x-1\n",
        "\n",
        "\n",
        "\n",
        "# Mediana al azar de 3 numeros como pivote\n",
        "\n",
        "def randpartition(l, c, f, verbose):\n",
        "  global cont\n",
        "  if verbose == True:\n",
        "    cprint(\"Llamada a partition con pivote al azar\\n\",'red',attrs=['bold','underline'])\n",
        "    cprint(f\"\\nArreglo a dividir: {l[c:f+1]}\\n\",'magenta',attrs=['bold'])\n",
        "\n",
        "  x= random.choice(l[c:f])\n",
        "  y= random.choice(l[c:f])\n",
        "  z= random.choice(l[c:f])\n",
        "\n",
        "  pivot= mediana(x,y,z,verbose)                                                       # Pivote es la mediana entre tres elementos aleatorios\n",
        "  indexpivot= l.index(pivot)                                                          # Se busca el índice del pivote\n",
        "  if verbose == True: cprint(f\"La mediana y pivote es: [{pivot}]\",'cyan')\n",
        "\n",
        "  l[indexpivot], l[c]= l[c], pivot                                                    # Se traslada el pivote al incio de la lista\n",
        "\n",
        "  x= c+1\n",
        "  for i in range(c+1,f+1):\n",
        "    if l[i] <= pivot:\n",
        "      if verbose == True: cprint(f\"Se intecambió {l[i]}, es menor al pivote {pivot}\",'yellow')\n",
        "      cont+= 1\n",
        "      l[i], l[x] = l[x], l[i]\n",
        "      x+= 1\n",
        "      if verbose == True: cprint(f\"Arreglo actual: {l[c:f+1]}\",'cyan')\n",
        "  l[c], l[x-1] = l[x-1], l[c]\n",
        "\n",
        "  if verbose == True: cprint(f\"Arreglo particionado: {l[c:f+1]}\",'yellow')\n",
        "  return x-1\n",
        "\n",
        "\n",
        "\n",
        "# QUICKSORT\n",
        "\n",
        "def quicksort(l, start, end, pivote, verbose):\n",
        "  if (start == end):                                                                  # Si el arreglo es de solo un elemento, se retorna este elemento\n",
        "    if verbose == True: cprint(f\"Arreglo de solo un elemento [{l[start]}]\\n\",'magenta',attrs=['bold'])\n",
        "    return l\n",
        "\n",
        "  if (start < end):                                                                   # Hacemos quicksort solo si el arreglo no tiene UN elemento                                                                                \n",
        "    if (pivote == 1): pivot = lastpartition(l, start, end, verbose)\n",
        "    elif (pivote == 2): pivot= firstpartition(l, start, end, verbose)\n",
        "    else:  pivot= randpartition(l, start, end, verbose)\n",
        "                                                                                      # Luego de dividir y ordenar el arreglo, se llama recursivamente                                                                                      \n",
        "    if verbose == True:                                                               # La función para ordenar la primera y segunda mitad del arreglo\n",
        "      if (len(l[start:pivot-1]) > 0):\n",
        "        cprint(f\"Llamada recursiva con arreglo izquierdo: {l[start:pivot]}\",'red')\n",
        "        quicksort(l, start, pivot-1, pivote, verbose)\n",
        "    else: quicksort(l, start, pivot-1, pivote, verbose)\n",
        "    if verbose == True and (len(l[start:pivot-1]) > 0):\n",
        "        cprint(f\"Llamada recursiva con arreglo derecho: {l[pivot+1:end+1]}\",'blue')\n",
        "        quicksort(l, pivot+1, end, pivote, verbose)\n",
        "    else: quicksort(l, pivot+1, end, pivote, verbose)\n",
        "  \n",
        "  if verbose == True and len(l[start:end+1])> 0: cprint(f\"Subarreglo ordenado: {l[start:end+1]}\",'green')\n",
        "  return l\n",
        "\n",
        "\n",
        "\n",
        "# MAIN #\n",
        "\n",
        "\n",
        "def main(verbose=True):\n",
        "  global cont\n",
        "  pivote= random.randint(1,3)                                                         # Define implementación de partition a utilizar\n",
        "  n= random.randint(2,8)                                                              # Genera largo de la lista\n",
        "  list= random.sample(range(1,100),n)                                                 # Lista de largo n aleaotoria\n",
        "  cprint(f\"Entrada: {list}\\n\",'green',attrs=['bold','underline'])\n",
        "\n",
        "  list= quicksort(list, 0, len(list)-1, pivote, verbose)\n",
        "\n",
        "  cprint(f\"\\nSalida: {list}\",'magenta',attrs=['bold','underline'])\n",
        "  cprint(f\"Comparaciones: {cont}\\n\",'cyan',attrs=['bold'])\n",
        "\n",
        "  if pivote == 1: cprint(\"Partition con ultimo elemento como pivote!!!\",'red',attrs=['bold'])\n",
        "  if pivote == 2: cprint(\"Partition con primer elemento como pivote!!!\",'red',attrs=['bold'])\n",
        "  if pivote == 3: cprint(\"Mediana de 3 numeros azar  como pivote!!!\",'red',attrs=['bold'])\n",
        "\n",
        "main(verbose=False)\n"
      ],
      "metadata": {
        "colab": {
          "base_uri": "https://localhost:8080/"
        },
        "id": "qS_lga8GYSUi",
        "outputId": "37056586-0512-424b-e34e-75d49d2538fe"
      },
      "execution_count": 1,
      "outputs": [
        {
          "output_type": "stream",
          "name": "stdout",
          "text": [
            "\u001b[4m\u001b[1m\u001b[32mEntrada: [7, 25, 17, 1, 72]\n",
            "\u001b[0m\n",
            "\u001b[4m\u001b[1m\u001b[35m\n",
            "Salida: [1, 7, 17, 25, 72]\u001b[0m\n",
            "\u001b[1m\u001b[36mComparaciones: 4\n",
            "\u001b[0m\n",
            "\u001b[1m\u001b[31mMediana de 3 numeros azar  como pivote!!!\u001b[0m\n"
          ]
        }
      ]
    },
    {
      "cell_type": "markdown",
      "source": [
        "## 2.2. Descripción del algoritmo\n",
        "\n",
        "*Quick Sort* utiliza el paradigma de divide y venceras dividiendo la lista en partes cada vez más pequeñas o en subproblemas más pequeños.\n",
        "\n",
        "El algoritmo recibe como entrada una lista (o arreglo) $L$ con la secuencia de $n$ elementos que queremos ordenar. Luego, los elementos son ordenados dentro de la misma lista.\n",
        "\n",
        "1. Se llama a la función partition, la cual selecciona un pivote con el cual dividiremos el algoritmo.\n",
        "\n",
        "2. Ya con nuestro pivote, la función se llama recursivamente en dos ocasiones: para ordenar el **subarreglo izquierdo al pivote** y aquel **subarreglo derecho al pivote**.\n",
        "\n",
        "3. Finalmente, **quicksort** nos retorna el arreglo original ya ordenado. Cabe resaltar que si éste es de solo un elemento, se retorna inmediatamente sin hacer lo anterior.\n",
        "\n",
        "\n",
        "![image](https://i.imgur.com/Es9Tue5.png)\n",
        "\n",
        "### Además de la función **Quicksort**, el algoritmo llama a la función **Partition**, la cual reordena el arreglo original, dividiendo a éste en dos con respecto a un pivote y dando como resultado un subarreglo menor a la izquierda y un subarreglo mayor a la derecha. En en el codigo la función **Partition** fue implementada de tres maneras:\n",
        "---\n",
        "* Último elemento como pivote:\n",
        "\n",
        " Seleccionamos como pivote al último elemento de un arreglo ($l[f]$).\n",
        "\n",
        " Con ayuda de dos índices $x$ e $i$ recorremos el arreglo hasta $f-1$.\n",
        "\n",
        " En cada iteración, se verificas si $l[i]$ es menor o igual al pivote. Si es verdadero, intercambiamos $l[i]$ con $l[x]$, y avanzamos con $x$.\n",
        "\n",
        " Al terminar el bucle, intercambiamos $l[f]$ con $l[x]$, y retornamos $x$.\n",
        "\n",
        "* Primer elemento como pivote:\n",
        "\n",
        " En este caso, el pivote será el primer elemento del arreglo ($l[c]$)\n",
        "\n",
        " Con ayuda de dos índices $x$ e $i$ recorremos el arreglo desde $c+1$ hasta $f$.\n",
        "\n",
        " En cada iteración, se verifica si $l[i]$ es menor o igual al pivote. Si es así, intercambiamos $l[i]$ con $l[x]$, y avanzamos con $i$.\n",
        "\n",
        " Al terminar el bucle, intercambiamos $l[c]$ con $l[x-1]$, y retornamos $x-1$.\n",
        "\n",
        "* La mediana de tres elementos al azar del arreglo como pivote:\n",
        "\n",
        " El pivote será la mediana de tres elementos, los cuales son escogidos de forma aleatoria.\n",
        "\n",
        " Con ayuda de otra función, calculamos cuál es la mediana de estos elementos. \n",
        " \n",
        " Al obtener este, buscamos su índice en el arreglo $l$.\n",
        "\n",
        " Luego intercambiamos este número con el primer elemento del arreglo ($l[c]$), después realizamos el mismo proceso como si se tratara del primer elemento como pivote.\n",
        "\n",
        "---\n",
        "Cuando la variable `verbose` == `True` se muestra información para ver lo que pasa paso a paso dentro de la función."
      ],
      "metadata": {
        "id": "XHIw15F97CnZ"
      }
    },
    {
      "cell_type": "markdown",
      "source": [
        "## 2.3. Ejemplo\n",
        "\n",
        "Consideremos, por ejemplo, el arreglo:\n",
        "\n",
        "$l = [7,30,6,69]$\n",
        "\n",
        "Utilizaremos el primer elemento como pivote, por lo que: $l[0]=pivote$. Nuestro índice $x$ comenzará en $l[1]$, y con $i$ recorremos hasta $l[3]$.\n",
        "\n",
        "$l = [7,30,6,69]$, donde `x=>7` e `i=>30`\n",
        "\n",
        "Como $7$ es meno a $30$, no pasa nada, por lo que avanzamos con $i$.\n",
        "\n",
        "$l = [7,30,6,69]$, donde `x=>7` e `i=>6`\n",
        "\n",
        "En este caso, como $7$ es mayor a $6$, intercambiamos $l[x]$ con $l[i]$, y avanzamos tanto con $x$ como con $i$.\n",
        "\n",
        "$l = [7,6,30,69]$, donde `x=>7` e `i=>69`\n",
        "\n",
        "Siguiente número. $69$ es mayor a $7$, así que queda igual.\n",
        "\n",
        "Al terminar la función **partition** en esta pasada, intercambiamos $l[0]$ con $l[x-1]$.\n",
        "\n",
        "$l = [6,7,30,69]$\n",
        "\n",
        "Ya se ha ordenado el arreglo"
      ],
      "metadata": {
        "id": "o0BhPA6mio_M"
      }
    },
    {
      "cell_type": "markdown",
      "source": [
        "## 2.4. Ejecución del algoritmo paso a paso (`verbose=True`)\n",
        "\n",
        "Usando la opción `verbose=True`, podemos ver lo que ocurre en cada iteración del algoritmo."
      ],
      "metadata": {
        "id": "5TZnpkE0dgta"
      }
    },
    {
      "cell_type": "code",
      "source": [
        "main(verbose=True)"
      ],
      "metadata": {
        "colab": {
          "base_uri": "https://localhost:8080/"
        },
        "id": "5aaaZsADA-3T",
        "outputId": "b9db9fd7-e4ac-4258-9150-764197bfdfc2"
      },
      "execution_count": null,
      "outputs": [
        {
          "output_type": "stream",
          "name": "stdout",
          "text": [
            "\u001b[4m\u001b[1m\u001b[32mEntrada: [41, 90, 63]\n",
            "\u001b[0m\n",
            "\u001b[4m\u001b[1m\u001b[31mLlamada a partition con pivote en el primer elemento\n",
            "\u001b[0m\n",
            "\u001b[1m\u001b[35m\n",
            "Arreglo a dividir: [41, 90, 63]\n",
            "\u001b[0m\n",
            "Pivote: [41]\n",
            "\u001b[33mArreglo particionado: [41, 90, 63]\u001b[0m\n",
            "\u001b[31mLlamada recursiva con arreglo izquierdo: []\u001b[0m\n",
            "\u001b[34mLlamada recursiva con arreglo derecho: [90, 63]\u001b[0m\n",
            "\u001b[4m\u001b[1m\u001b[31mLlamada a partition con pivote en el primer elemento\n",
            "\u001b[0m\n",
            "\u001b[1m\u001b[35m\n",
            "Arreglo a dividir: [90, 63]\n",
            "\u001b[0m\n",
            "Pivote: [90]\n",
            "\u001b[33mSe intecambió 63, es menor al pivote 90\u001b[0m\n",
            "\u001b[36mArreglo actual: [90, 63]\u001b[0m\n",
            "\u001b[33mArreglo particionado: [63, 90]\u001b[0m\n",
            "\u001b[32mSubarreglo ordenado: [63, 90]\u001b[0m\n",
            "\u001b[32mSubarreglo ordenado: [41, 63, 90]\u001b[0m\n",
            "\u001b[4m\u001b[1m\u001b[35m\n",
            "Salida: [41, 63, 90]\u001b[0m\n",
            "\u001b[1m\u001b[36mComparaciones: 10\n",
            "\u001b[0m\n",
            "\u001b[1m\u001b[31mPartition con primer elemento como pivote!!!\u001b[0m\n"
          ]
        }
      ]
    },
    {
      "cell_type": "markdown",
      "source": [
        "# 3. Correctitud\n",
        "\n",
        "### **Teorema (Correctitud) de $f$(Partition) .**\n",
        "\n",
        "El algoritmo **Partition** recibe un arreglo $l[c,...,f]$, lo ordena y retorna un índice $x$ tal que los elementos del arreglo $l[c,...,x-1]$ son menor o igual a $l[x]$ y los elementos del arreglo $A[x+1,...,f]$ son mayores a $l[x]$\n",
        "\n",
        "\n",
        "## Prueba del Teorema\n",
        "**Prueba invariante de bucle:**\n",
        "\n",
        "> Al comienzo de cada iteración, se cumple que: \n",
        "  Para cualquier índice $z$ del arreglo:\n",
        "\n",
        "* Si $c \\leq z \\leq i$, entonces $l[z] \\leq x$\n",
        "* Si $x < z < j$, entonces $l[z] > x$\n",
        "\n",
        "  Donde $c$ es el primer elemento de $l$ y $x$ un pivote. \n",
        "\n",
        "> **Inicialización**\n",
        "\n",
        "Antes de comenzar $i= c$ y $j= c$. Porque no hay valores entre $c$ e $i$, como no están en la misma posición, se asume que el índice $z$ no existe, dejando al conjuntos $l[z]$ sin elementos. Así decimos que la propiedad se cumple.\n",
        "\n",
        "> **Mantención**\n",
        "\n",
        "Esto cambia en la i-ésima iteración. Ya que tras comparar si $l[z]$ es menor o mayor a nuestro pivote $x$. Si $l[j] > x$, $j$ incrementa y ningún elemento se mueve de su posición en el subarreglo $l[i+1,...,j-1]$, como no ocurre ningún cambio la condición se cumple. Mientras que, si $l[j] \\leq x$, i Si incrementa, y se intercambian  l[i] con l[j], y luego incrementa en j una unidad. Con este cambio, se obtiene que  $l[i] \\leq x$, manteniendo la condición.\n",
        "\n",
        "> **Correctitud**\n",
        "\n",
        "Como se cumple tanto al inicio como durante la ejecución del bucle la propiedad descrita, podemos concluir decir que la función **Partition** es correcta, formando un arreglo de  n  elementos el cual estará dividido respecto al pivote l[x], donde $l[0,...,x−1]$ serán menores a `x`, mientras que $l[x+1,...,n]$ tendrá elementos mayores."
      ],
      "metadata": {
        "id": "hxlqnH55tPyc"
      }
    },
    {
      "cell_type": "markdown",
      "source": [
        "# 3.1 Correctitud\n",
        "\n",
        "### **Teorema (Correctitud) de $f$(QuickSort) .**\n",
        "\n",
        "El algoritmo **Quick Sort** genera un arreglo: $[a_1,a_2,a_3,...,a_n]$, con los mismos elementos del arreglo de entrada ordenados de menor a mayor;  $a_1 \\leq a_2 \\leq a_3 \\leq ... \\leq a_n$.\n",
        "\n",
        "## Prueba del Teorema\n",
        "\n",
        "Como es una función recursiva y por lo tanto la podemos analizar usando **inducción matemática**.\n",
        "\n",
        ">**Caso inicial:**\n",
        "\n",
        "Con $n=1$\n",
        "Como el arreglo es de solo un elemento, este ya se encuentra ordenado, por lo que se retorna este, cumpliéndo así $P(1)$.\n",
        "\n",
        "\n",
        "\n",
        ">**Inducción:**\n",
        "\n",
        "Para $n=1$ --> $P(1)$\n",
        "\n",
        "Entonces Para $n>1$ :\n",
        "\n",
        "Con **Quick Sort** un arreglo de $n$ elementos éste se divide en dos subarreglos $[0,...,x-1]$ y $[x+1,...,n]$, con $x$ siendo el pivote elegido por la función **Partition**.\n",
        "\n",
        "Como el tamaño de los subarreglos serán **siempre menores a $n$**, gracias a la inducción asumimos que éstos van a estar ordenados correctamente siempre al llegar a n==1.\n",
        "\n",
        "Como todo esto ocurre dentro de un mismo arreglo sin ayuda de otra función auxiliar, podemos concluir que el arreglo estará **Ordenado de Menor a Mayor**.Por lo que **Quick Sort** es correcto.\n",
        "\n"
      ],
      "metadata": {
        "id": "9J_DUZQfD4Oz"
      }
    },
    {
      "cell_type": "markdown",
      "source": [
        "# 4. Tiempo de ejecución\n",
        "\n",
        "### **Teorema (Tiempo de ejecución).**\n",
        "\n",
        "El algoritmo **Quick Sort** tiene un tiempo de ejecución de $O(n*log(n))$ en el caso promedio y mejor caso, mientras que en el peor caso tiene un tiempo de ejecución de $O(n^2)$.\n",
        "\n",
        "## Prueba del teorema\n",
        "\n",
        "Considerando que *Partition* recibe el último elemento del arreglo como pivote, el peor caso se lleva a cabo cuando el arreglo de entrada ya viene ordenado de menor a mayor.\n",
        "\n",
        "Para nuestra ecuación de recurrencia, consideramos que se va a dividir el arreglo en $(n-1)$ elementos, mientras que la función Partition, como siempre recorrerá $(n-1)$ elementos, es decir una complejidad $O(n)$.\n",
        "\n",
        "**Ecuación Recurrente:**\n",
        "\n",
        "$T(n)= T (n-1) + O(n)$\n",
        "          \n",
        "\n",
        "######Descripción:\n",
        "\n",
        "El tamaño del problema es un arreglo de $n$ elementos, el cual asumiremos, es una potencia de 2. Nuestro algoritmo divide cada problema en 2 \"subproblemas\", siendo cada uno la mitad anterior.\n",
        "\n",
        "Por otro lado, la complejidad de la función **maxmid** es $O(n)$, debido a que se debe recorrer todo el arreglo en busca del máximo en el medio.\n",
        "\n",
        "Así, gracias al desarrollo matemático de la expresión se puede concluir que el tiempo de ejecución para el peor caso es efectivamente **O(n2)**.\n",
        "\n",
        "![image](https://i.imgur.com/dT6MifF.jpg)\n",
        "\n",
        "### Mejor caso y/o caso promedio $O(n*logn)$\n",
        "\n",
        "El mejor caso, es igual al promedio y ocurre cuando cada partición generada por la función partition son ambas del mismo tamaño o se acercan por una unidad.\n",
        "\n",
        "**Ecuación Recurrente:**\n",
        "\n",
        "$T(n)= 2T(n/2) + O(n)$\n",
        "\n",
        "Aplicando el **teorema maestro**. En este caso, tenemos que `a= 2`, `b= 2` y `d= 1`, tal que $b^d= a = 2^1 = 2$. Así, concluimos en que el tiempo de ejecución en estos casos es de $O(n*logn)$."
      ],
      "metadata": {
        "id": "NmzbekC-4NNC"
      }
    },
    {
      "cell_type": "markdown",
      "source": [
        "# 5. Experimentos\n",
        "\n",
        "## 5.1. Número de comparaciones\n",
        "\n",
        "A continuación se muestra gráficamente:\n",
        "\n",
        "* Comparación del número de comparaciones    realizadas experimentalmente con el mejor y peor caso teóricos.\n",
        "\n",
        "* Comparación del algoritmo QuickSort, con MergeSort.\n",
        "\n",
        "* Comparación el rendimiento del algoritmo al modificar la selección del pivote (punto 1).\n",
        "\n",
        "Los arreglos de entrada son generados aleatoriamente haciendo un sampling de un conjunto de números entre -100 y 300."
      ],
      "metadata": {
        "id": "2hYUM_9OHF38"
      }
    },
    {
      "cell_type": "code",
      "source": [
        "x= [n for n in range(5,300)]\n",
        "y1= [n**2 for n in range(5,300)] # Peor caso\n",
        "y2= [n*math.log2(n) for n in range(5,300)] # Mejor caso\n",
        "y= []\n",
        "\n",
        "for n in range(5,300):\n",
        "  cont= 0\n",
        "  l= random.sample(range(-100, 300), n)\n",
        "  l= quicksort(l, 0, len(l)-1, 1, verbose=False)\n",
        "  y.append(cont)\n",
        "\n",
        "plt.plot(x,y,'g--',lw=2)\n",
        "plt.plot(x,y1,'r--',lw=2)\n",
        "plt.plot(x,y2,'m-',lw=2)\n",
        "plt.legend([\"Quick Sort\", \"Peor caso teórico\", \"Mejor caso teórico\"])\n",
        "plt.title(\"Comparacion de mejor, peor y caso promedio de QuickSort\")\n",
        "plt.xlabel('n')\n",
        "plt.ylabel(\"Número de comparaciones\")\n",
        "\n",
        "plt.show()"
      ],
      "metadata": {
        "id": "tjO0t3LcUsAo",
        "colab": {
          "base_uri": "https://localhost:8080/",
          "height": 295
        },
        "outputId": "f4a10ada-dc84-4994-e59a-6423ae41d15a"
      },
      "execution_count": 11,
      "outputs": [
        {
          "output_type": "display_data",
          "data": {
            "text/plain": [
              "<Figure size 432x288 with 1 Axes>"
            ],
            "image/png": "[encoded data removed]"
          },
          "metadata": {
            "needs_background": "light"
          }
        }
      ]
    },
    {
      "cell_type": "markdown",
      "source": [
        "### Análisis de resultados\n",
        "\n",
        "Se puede notar en el gráfico que por raro que parezca el caso promedio se encuentra por debajo del **Mejor caso teórico** . Una posible causa que explique este comportamiento podría ser la aleatoriedad de la elección del pivote escogido el cual puede ser el más conveniente justo en ese caso.\n"
      ],
      "metadata": {
        "id": "dgZbYPQ_idf5"
      }
    },
    {
      "cell_type": "code",
      "execution_count": 14,
      "metadata": {
        "id": "X6zMAoC1aos8",
        "colab": {
          "base_uri": "https://localhost:8080/"
        },
        "outputId": "d67673d9-7e5a-4c64-bdd6-5294fcd3e772"
      },
      "outputs": [
        {
          "output_type": "stream",
          "name": "stdout",
          "text": [
            "\u001b[2m\u001b[1m\u001b[33mEntrada: [4, 7, 2, 3, 5, 6]\n",
            "\u001b[0m\n",
            "\u001b[2m\u001b[5m\u001b[1m\u001b[32mSalida: [2, 3, 4, 5, 6, 7]\u001b[0m\n",
            "\u001b[2m\u001b[5m\u001b[1m\u001b[32mLlamadas recursivas: 10\u001b[0m\n",
            "\u001b[2m\u001b[5m\u001b[1m\u001b[32mComparaciones: 10\u001b[0m\n"
          ]
        }
      ],
      "source": [
        "### IPORTANDO MERGE SORT ###\n",
        "\n",
        "def merge(sl, sr, verbose):\n",
        "  global cont\n",
        "  templist=[]\n",
        "  while len(sl)>0 and len(sr)>0:\n",
        "\n",
        "    if sl[0]<sr[0]:\n",
        "      templist.append(sl[0])\n",
        "      cont+=1\n",
        "      if verbose==True:\n",
        "        cprint(f\"Lista ordenandose: {templist}\\n\",'green',attrs=['bold','underline','dark'])\n",
        "      sl=sl[1:]\n",
        "\n",
        "\n",
        "    else:\n",
        "      templist.append(sr[0])\n",
        "      cont+=1\n",
        "      if verbose==True:\n",
        "        cprint(f\"Lista ordenandose: {templist}\\n\",'green',attrs=['bold','underline','dark'])\n",
        "      sr=sr[1:]\n",
        "\n",
        "  \n",
        "  if len(sl)>0:\n",
        "    templist+=sl\n",
        "\n",
        "  if len(sr)>0:\n",
        "    templist+=sr\n",
        "\n",
        "  if verbose==True:\n",
        "        cprint(f\"Lista ordenanda: {templist}\\n\",'cyan',attrs=['bold'])\n",
        "\n",
        "  return templist\n",
        "\n",
        "def merge_sort(List, verbose):\n",
        "  global recur\n",
        "  if len(List)== 1:\n",
        "    return List\n",
        "  middledledledle= len(List)// 2\n",
        "  l= List[:middledledledle]\n",
        "  r= List[middledledledle:]\n",
        "  if verbose==True:\n",
        "      cprint(f\"Parte izquierda: {l}\",'blue')\n",
        "      cprint(f\"Parte derecha: {r}\\n\",'magenta')\n",
        "  recur+=1\n",
        "  sl= merge_sort(l, verbose)\n",
        "  recur+=1\n",
        "  sr= merge_sort(r, verbose)\n",
        "  \n",
        "  return merge(sl, sr, verbose)\n",
        "\n",
        "cont=0\n",
        "recur=0    \n",
        "List= [4,7,2,3,5,6]\n",
        "cprint(f\"Entrada: {List}\\n\",'yellow',attrs=['bold','dark'])\n",
        "cprint(f\"Salida: {merge_sort(List, verbose=False)}\",'green',attrs=['bold','blink','dark'])\n",
        "cprint(f\"Llamadas recursivas: {recur}\",'green',attrs=['bold','blink','dark'])\n",
        "cprint(f\"Comparaciones: {cont}\",'green',attrs=['bold','blink','dark'])\n",
        "\n",
        "\n",
        "def test(List,verbose=False):\n",
        "  global cont\n",
        "  a=List\n",
        "  merge_sort(a,verbose=False)\n",
        "  return cont"
      ]
    },
    {
      "cell_type": "code",
      "source": [
        "import datetime\n",
        "from timeit import repeat\n",
        "\n",
        "x1= []; y1= []; x2= []; y2= []\n",
        "verbose = False\n",
        "for n in range(5,300):\n",
        "  l= random.sample(range(-100,300), n)\n",
        "\n",
        "  r= repeat(setup=\"from __main__ import test\", stmt = f\"test({l})\", repeat = 1, number = 10)\n",
        "  t= repeat(setup=\"from __main__ import quicksort\", stmt = f\"quicksort({l}, {0}, {len(l)-1}, {1}, {verbose})\", repeat = 1, number = 10)\n",
        "\n",
        "  x1.append(n)\n",
        "  x2.append(n)\n",
        "  y1.append(r)\n",
        "  y2.append(t)\n",
        "\n",
        "plt.plot(x1,y1,'g',lw=1)\n",
        "plt.plot(x2,y2,'r',lw=1)\n",
        "plt.legend([\"Merge Sort\",\"Quick Sort\"])\n",
        "\n",
        "plt.xlabel(\"n\")\n",
        "plt.ylabel(\"Tiempo en ms\")\n",
        "\n",
        "plt.show()"
      ],
      "metadata": {
        "colab": {
          "base_uri": "https://localhost:8080/",
          "height": 279
        },
        "id": "z8Pt5wYCUsfv",
        "outputId": "33065096-0fcd-4c89-e26b-c46fff84d1ba"
      },
      "execution_count": 20,
      "outputs": [
        {
          "output_type": "display_data",
          "data": {
            "text/plain": [
              "<Figure size 432x288 with 1 Axes>"
            ],
            "image/png": "[encoded data removed]"
          },
          "metadata": {
            "needs_background": "light"
          }
        }
      ]
    },
    {
      "cell_type": "markdown",
      "source": [
        "### Análisis de resultados\n",
        "\n",
        "Luego de la ejecución de ambos algoritmos ordenando el mismo arreglo, se puede evidenciar que, claramente el algoritmo de merge sort es más rápido que quicksort al elegir como pivote al último elemento del arreglo, además de que, se puede apreciar que existen ciertos peaks que afectan en el mismo punto a ambos algoritmos, esto podría deberse al hardware que está ejecutando el código O a la forma en la que se comporta el algoritmo con ciertos arreglos, es decir, su orden. "
      ],
      "metadata": {
        "id": "_cyeMfC5iW52"
      }
    },
    {
      "cell_type": "code",
      "source": [
        "x1 = []; y1 = []; y2 = []; y3 = []\n",
        "verbose = False\n",
        "\n",
        "for n in range(5,300):\n",
        "  l = random.sample(range(-100,300),n)\n",
        "\n",
        "  r = repeat(setup=\"from __main__ import quicksort\", stmt = f\"quicksort({l}, {0}, {len(l)-1}, {1}, {verbose})\", repeat = 1, number = 10)\n",
        "  y1.append(r)\n",
        "  t = repeat(setup=\"from __main__ import quicksort\", stmt = f\"quicksort({l}, {0}, {len(l)-1}, {2}, {verbose})\", repeat = 1, number = 10)\n",
        "  y2.append(t)\n",
        "  q = repeat(setup=\"from __main__ import quicksort\", stmt = f\"quicksort({l}, {0}, {len(l)-1}, {3}, {verbose})\", repeat = 1, number = 10)\n",
        "  y3.append(q)\n",
        "\n",
        "  x1.append(n)\n",
        "\n",
        "plt.plot(x1,y1)\n",
        "plt.plot(x1,y2)\n",
        "plt.plot(x1,y3)\n",
        "plt.legend([\"Último elemento\",\"Primer elemento\",\"Mediana de tres elementos al azar\"])\n",
        "\n",
        "plt.xlabel(\"n\")\n",
        "plt.ylabel(\"Tiempo en ms\")\n",
        "plt.show()"
      ],
      "metadata": {
        "colab": {
          "base_uri": "https://localhost:8080/",
          "height": 283
        },
        "id": "LdjjygAVUs0_",
        "outputId": "a3245c3a-d099-4844-b21c-1ec496cfbdd5"
      },
      "execution_count": 24,
      "outputs": [
        {
          "output_type": "display_data",
          "data": {
            "text/plain": [
              "<Figure size 432x288 with 1 Axes>"
            ],
            "image/png": "[encoded data removed]"
          },
          "metadata": {
            "needs_background": "light"
          }
        }
      ]
    },
    {
      "cell_type": "markdown",
      "source": [
        "### Análisis de resultados\n",
        "\n",
        "Al parecer, cuando el arreglo está desordenado no existe mayor diferencia entre elegir el primer o el último elemento como pivote, pues, si comparamos a ambos con respecto a elegir como pivote la mediana de tres elementos al azar pertenecientes al arreglo original tarda bastante más, esto puede deberse a que principalmente elegir y calcular estos valores es donde más tarda la ejecución."
      ],
      "metadata": {
        "id": "r0why1mrS8_J"
      }
    }
  ]
}