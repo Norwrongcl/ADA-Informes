{
  "nbformat": 4,
  "nbformat_minor": 0,
  "metadata": {
    "colab": {
      "name": "Analisis y diseno de algoritmo.ipynb",
      "provenance": [],
      "authorship_tag": "ABX9TyOUDJZ2JgmxuIrI/VPKuxkt",
      "include_colab_link": true
    },
    "kernelspec": {
      "name": "python3",
      "display_name": "Python 3"
    },
    "language_info": {
      "name": "python"
    }
  },
  "cells": [
    {
      "cell_type": "markdown",
      "metadata": {
        "id": "view-in-github",
        "colab_type": "text"
      },
      "source": [
        "<a href=\"https://colab.research.google.com/github/Norwrongcl/ADA-Informes/blob/main/Bubble%20Sort.ipynb\" target=\"_parent\"><img src=\"https://colab.research.google.com/assets/colab-badge.svg\" alt=\"Open In Colab\"/></a>"
      ]
    },
    {
      "cell_type": "code",
      "execution_count": null,
      "metadata": {
        "id": "jRl5UiaQksSt"
      },
      "outputs": [],
      "source": [
        "# 1.\n",
        "import random\n",
        "\n",
        "def  bubble_sort(lista):\n",
        "  longlist= len(lista)-1\n",
        "  ordenada= False\n",
        "  while not ordenada:\n",
        "    ordenada= True\n",
        "    for i in range(0, longlist):\n",
        "      if lista[i]> lista[i+1]:\n",
        "        ordenada= False\n",
        "        lista[i], lista[i+1] = lista[i+1], lista[i]\n",
        "        \n",
        "  return lista\n",
        "\n",
        "def main():\n",
        "  largo= random.randint(1,50)\n",
        "  print (largo)\n",
        "  lista= [random.randint(0, 100)for x in range (largo)]\n",
        "  print(\"Lista Desordenada:\")\n",
        "  print(lista)\n",
        "  bubble_sort(lista)\n",
        "  print(\"Lista Ordenada:\")\n",
        "  print(lista)\n",
        "\n",
        "main()"
      ]
    }
  ]
}