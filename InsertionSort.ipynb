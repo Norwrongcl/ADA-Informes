{
  "nbformat": 4,
  "nbformat_minor": 0,
  "metadata": {
    "colab": {
      "name": "Analisis y diseno de algoritmo.ipynb",
      "provenance": [],
      "authorship_tag": "ABX9TyNYS7DTbECowCCbRd8OwCJk",
      "include_colab_link": true
    },
    "kernelspec": {
      "name": "python3",
      "display_name": "Python 3"
    },
    "language_info": {
      "name": "python"
    }
  },
  "cells": [
    {
      "cell_type": "markdown",
      "metadata": {
        "id": "view-in-github",
        "colab_type": "text"
      },
      "source": [
        "<a href=\"https://colab.research.google.com/github/Norwrongcl/ADA-Informes/blob/main/InsertionSort.ipynb\" target=\"_parent\"><img src=\"https://colab.research.google.com/assets/colab-badge.svg\" alt=\"Open In Colab\"/></a>"
      ]
    },
    {
      "cell_type": "markdown",
      "source": [
        "# 1. Ordenamiento Secuencial\n",
        "\n",
        "**Entrada**: Cadena de n números $[a_1,a_2,...,a_n]$\n",
        "\n",
        "**Salida**: Secuencia ordenada de la entrada: $[a_1',a_2',...,a_n']$, tal que se cumple:  $a_1'\\leq a_2' \\leq... \\leq a_n'$.\n",
        "\n",
        "![image](https://i.imgur.com/78LvePE.png)\n",
        "\n",
        "Existen bastantes algoritmos de ordenamiento que han sido desarrollados a través del tiempo, tal vez, unos más eficientes que otros a pesar de su similaridad. El algoritmo expuesto en este informe no es el más eficiente, pero si es uno de los más sencillos. Cuando se ejecuta el ordenamiento por selección (Insertion Sort), el subarreglo al inicio del arreglo queda ordenado mientras que los valores que se agregan, se insertan desde un inicio en la posicion correcta.\n",
        "\n"
      ],
      "metadata": {
        "id": "jT2qsbCS3Fzu"
      }
    },
    {
      "cell_type": "markdown",
      "source": [
        "# 2. InsertionSort\n",
        "\n",
        "El siguiente código muestra una implementación del algoritmo **InsertionSort**."
      ],
      "metadata": {
        "id": "nn1Sn60L3mrJ"
      }
    },
    {
      "cell_type": "markdown",
      "source": [
        "## 2.1. Código"
      ],
      "metadata": {
        "id": "ye6dYlnqLNtD"
      }
    },
    {
      "cell_type": "code",
      "execution_count": 77,
      "metadata": {
        "id": "X6zMAoC1aos8",
        "colab": {
          "base_uri": "https://localhost:8080/"
        },
        "outputId": "84e78f60-6be4-4577-cb25-3116cbbdeb21"
      },
      "outputs": [
        {
          "output_type": "stream",
          "name": "stdout",
          "text": [
            "Entrada:  [1, 2, 3, 4, 7, 6, 5]\n",
            "Salida:  [1, 2, 3, 4, 5, 6, 7]\n",
            "# comparaciones:  9\n"
          ]
        }
      ],
      "source": [
        "import random\n",
        "from termcolor import colored\n",
        "\n",
        "def insertion_sort(list,verbose=False): #Funcion InsertionSort\n",
        "   temp=0\n",
        "   if verbose== True: \n",
        "    print(\"Entrada:\",list)\n",
        "   for i in range(1,len(list)):  #Comienza a recorrer el arreglo desde la posicion 1, ya que se asume que la posicion 0 está ordenada\n",
        "     sorted= True\n",
        "     if verbose== True: \n",
        "        print(\"\\nPasada\",i)\n",
        "     aux= list[i]\n",
        "     j= i-1\n",
        "     while (j>= 0) and (aux< list[j]): #Cuando se compara el valor de la casilla j con el valor de la casilla j-1,   si los valores  j < j-1 , se reemplazan, \n",
        "              sorted=False\n",
        "              list[j+1]= list[j]        # y se siguen comparando los valores anteriores mientras quedes casillas a la izquierda.\n",
        "              j-= 1\n",
        "              temp+= 1\n",
        "              \n",
        "     list[j+1]= aux\n",
        "     if j>= 0: #Para contar casos aparte, es decir, se cuentan las comparaciones cuando los elementos se mueven de posición\n",
        "        temp+= 1\n",
        "     if verbose== True: \n",
        "        print(str(list[:i])[1:-1],\",\",colored(f\"{str(list[i:i+2])[1:-1]}\",\"green\"),\",\",str(list[i+2:])[1:-1])\n",
        "    \n",
        "   if verbose == True:\n",
        "     print(\"\\nSalida:\",list)\n",
        "   \n",
        "   if sorted==True:\n",
        "     if verbose == True: \n",
        "       print(\"Esta ordeanado!\")\n",
        "\n",
        "   return list ,temp\n",
        "\n",
        "\n",
        "\n",
        "list= [1,2,3,4,7,6,5]\n",
        "print(\"Entrada: \",list)\n",
        "list, cont= insertion_sort(list)\n",
        "print(\"Salida: \",list)\n",
        "print(\"# comparaciones: \", cont)\n",
        "\n"
      ]
    },
    {
      "cell_type": "markdown",
      "source": [
        "## 2.2. Descripción del algoritmo\n",
        "\n",
        "*Insertion Sort* consta de tomar uno por uno los elementos de un arreglo y recorrerlo hacia su posición con respecto a los anteriormente ordenados. Así empieza con el segundo elemento y lo ordena con respecto al primero. Luego sigue con el tercero y lo coloca en su posición ordenada con respecto a los dos anteriores, así sucesivamente hasta recorrer todas las posiciones del arreglo.\n",
        "\n",
        "El algoritmo recibe como entrada una lista (o arreglo) $L$ con la secuencia de $n$ elementos que queremos ordenar. Luego, los elementos son ordenados dentro de la misma lista.\n",
        "\n",
        "1. En cada iteración `i`, el algoritmo recorre el arreglo comparando cada elemento `a[j]` con el elemento `a[j-1]`, siempre que `j>0`. Si `a[j]<a[j-1]`, entonces los elementos se intercambian de posiciones.\n",
        "\n",
        "2. Si el arreglo se encuentra ordenado, el algoritmo termina. Si no, se vuelve a recorrer (Primer paso).\n",
        "\n",
        "3. Al final, se imprime en pantalla la lista o arreglo ordenado y retorna un contador de comparaciones: `cont`.\n",
        "\n",
        "El algoritmo debe recorrer todo el arreglo, ya que en cada iteración un nuevo elemento ordenado se coloca al final del arreglo. Es decir, en cada iteración se tiene algo como la imagen:\n",
        "\n",
        "![image](https://i.imgur.com/jPyl1OG.png)\n",
        "\n",
        "Cuando la variable `verbose` == `True` se muestra información para ver lo que pasa paso a paso dentro de la función."
      ],
      "metadata": {
        "id": "XHIw15F97CnZ"
      }
    },
    {
      "cell_type": "markdown",
      "source": [
        "## 2.3. Ejemplo\n",
        "\n",
        "Consideremos, por ejemplo, la lista:\n",
        "\n",
        "*L* = $[4,3,5,1]$\n",
        "\n",
        "En la primera pasada comparamos el 4 con el 3 y como el 3 es menor, se intercambian, y pasamos a la siguiente iteración:\n",
        "\n",
        "*L* = $[3,4,5,1]$\n",
        "\n",
        "Luego, en la segunda iteración,como no existen más elementos a la izquierda del 3 se compara el 5 y el 4 y como están ordenados, no se intercambian:\n",
        "\n",
        "*L* = $[3,4,5,1]$\n",
        "\n",
        "Y en la tercera iteración analizamos al 1, 1 es menor a 5, entonces los intercambiamos:\n",
        "\n",
        "*L* = $[3,4,1,5]$\n",
        "\n",
        "Después, como existen más valores a la izquierda del 1, seguimos comparando, y como el 1 es menor al 4, se reemplazan:\n",
        "\n",
        "*L* = $[3,1,4,5]$\n",
        "\n",
        "Por último el 1 y el 3:\n",
        "\n",
        "*L* = $[1,3,4,5]$\n",
        "\n",
        "Y ya tenemos el arreglo ordenado."
      ],
      "metadata": {
        "id": "o0BhPA6mio_M"
      }
    },
    {
      "cell_type": "markdown",
      "source": [
        "## 2.4. Ejecución del algoritmo paso a paso (`verbose=True`)\n",
        "\n",
        "Usando la opción `verbose=True`, podemos ver lo que ocurre en cada iteración del algoritmo."
      ],
      "metadata": {
        "id": "5TZnpkE0dgta"
      }
    },
    {
      "cell_type": "code",
      "source": [
        "import random\n",
        "list = random.sample(range(1, 100), 6)\n",
        "list,c= insertion_sort(list,verbose=True)"
      ],
      "metadata": {
        "id": "H_93UBKv8VQl",
        "colab": {
          "base_uri": "https://localhost:8080/"
        },
        "outputId": "2185f46c-b7cd-4b93-bf46-7e196ecf0b22"
      },
      "execution_count": 78,
      "outputs": [
        {
          "output_type": "stream",
          "name": "stdout",
          "text": [
            "Entrada: [43, 90, 7, 94, 34, 48]\n",
            "\n",
            "Pasada 1\n",
            "43 , \u001b[32m90, 7\u001b[0m , 94, 34, 48\n",
            "\n",
            "Pasada 2\n",
            "7, 43 , \u001b[32m90, 94\u001b[0m , 34, 48\n",
            "\n",
            "Pasada 3\n",
            "7, 43, 90 , \u001b[32m94, 34\u001b[0m , 48\n",
            "\n",
            "Pasada 4\n",
            "7, 34, 43, 90 , \u001b[32m94, 48\u001b[0m , \n",
            "\n",
            "Pasada 5\n",
            "7, 34, 43, 48, 90 , \u001b[32m94\u001b[0m , \n",
            "\n",
            "Salida: [7, 34, 43, 48, 90, 94]\n"
          ]
        }
      ]
    },
    {
      "cell_type": "markdown",
      "source": [
        "# 3. Tiempo de ejecución\n",
        "\n",
        "### **Teorema (Tiempo de ejecución).**\n",
        "\n",
        "*El algoritmo **InsertionSort** tiene un **tiempo de ejecución de** $O(n^2/2)$ en el peor caso, y en su mejor caso $O(n)$*.\n",
        "\n",
        "## Prueba del teorema\n",
        "\n",
        "Observando el código, podemos apreciar que el **peor caso** ocurre cuando el arreglo está ordenado de **mayor a menor**. En este caso, en cada pasada el elemento se movería $n-1$ casillas a la izquierda, por lo que se necesitaría realizar:\n",
        "\n",
        "$n(n-1)/2$\n",
        "\n",
        "pasadas para que los elementos quedaran ordenados. "
      ],
      "metadata": {
        "id": "NmzbekC-4NNC"
      }
    },
    {
      "cell_type": "markdown",
      "source": [
        "# 4. Correctitud\n",
        "\n",
        "### **Teorema (Correctitud).**\n",
        "\n",
        "*El algoritmo **InsertionSort** genera un arreglo: $[a_1',a_2',...,a_n']$, con los mismos elementos del arreglo de entrada ordenados de menor a mayor, es decir,* $a_1'\\leq a_2' \\leq... \\leq a_n'$.\n",
        "\n",
        "\n",
        "## Prueba del Teorema\n",
        "\n",
        "Previamente observamos que en cada iteración de InsertionSort se agrega un nuevo elemento desordenado al final del arreglo, mientras que el lado izquierdo se mantiene ordenado\n",
        "\n",
        "Por lo que probaremos la siguiente **propiedad invariante de bucle** para el `InsertionSort`:\n",
        "\n",
        "> Al comienzo de cada iteración `i` del bucle más grande,los últimos `i-1` elementos del arreglo corresponden a los mayores elementos del arreglo original ordenados de menor a mayor.\n",
        "\n",
        "**Inicialización**\n",
        "\n",
        "Al comienzo de la primera iteración (i=1), los últimos $i-1=0$ elementos del arreglo cumplen la propiedad.\n",
        "\n",
        "**Mantención**\n",
        "\n",
        "![image](https://i.imgur.com/YGFcF5O.png)\n",
        "\n",
        "**Correctitud**\n",
        "\n",
        "Como la propiedad de bucle invariante es verdadera al incio del bucle y se mantiene en cada iteración, podemos decir que al **finalizar la i-ésima iteración del algoritmo**, se que genera un arreglo $[a_1',a_2',...,a_n']$, con los mismos elementos del arreglo de entrada ordenados de menor a mayor."
      ],
      "metadata": {
        "id": "-ifxrrqlC4Hc"
      }
    },
    {
      "cell_type": "markdown",
      "source": [
        "# 5. Experimentos\n",
        "\n",
        "## 5.1. Número de comparaciones\n",
        "\n",
        "A continuación se muestra gráficamente una comparación entre:\n",
        "\n",
        "* Comparar la cantidad de comparaciones realizadas en el mejor y peor caso.\n",
        "* Mostrar que sucede cuando se utiliza en un arreglo casi completamente ordenado.\n",
        "* Comparar los tiempos de ejecución con el algoritmo BubbleSort\n",
        "\n",
        "Los arreglos de entrada son generados aleatoriamente haciendo un sampling de un conjunto de números entre 1 y 100."
      ],
      "metadata": {
        "id": "2hYUM_9OHF38"
      }
    },
    {
      "cell_type": "code",
      "source": [
        "import matplotlib.pyplot as plt\n",
        "\n",
        "x=[n for n in range(5,20)] \n",
        "y1=[n*(n-1)/2 for n in range(5,20)] # worst case\n",
        "y2=[n-1 for n in range(5,20)] # best case\n",
        "y=[]; \n",
        "\n",
        "for n in range(5,20):\n",
        "  a = random.sample(range(1, 100), n)\n",
        "  a,counter = insertion_sort(a)\n",
        "  y.append(counter)\n",
        "\n",
        "plt.plot(x,y)\n",
        "plt.plot(x,y1)\n",
        "plt.plot(x,y2)\n",
        "plt.legend([\"insertion sort\", \"theoretical worst case\", \"theoretical best case\"])\n",
        "\n",
        "plt.title(\"Comparaciones realizadas en el mejor y peor caso\", fontsize=15)\n",
        "plt.xlabel('n')\n",
        "plt.ylabel('number of operations')\n",
        "plt.show()"
      ],
      "metadata": {
        "colab": {
          "base_uri": "https://localhost:8080/",
          "height": 297
        },
        "id": "LxKv6b1WE-t8",
        "outputId": "dad8b5e1-e643-47ff-fdcb-8c15e2ac0988"
      },
      "execution_count": 114,
      "outputs": [
        {
          "output_type": "display_data",
          "data": {
            "text/plain": [
              "<Figure size 432x288 with 1 Axes>"
            ],
            "image/png": "[encoded data removed]"
          },
          "metadata": {
            "needs_background": "light"
          }
        }
      ]
    },
    {
      "cell_type": "markdown",
      "source": [
        "### Análisis de resultados\n",
        "\n",
        "En el gráfico se puede apreciar que, como cabía de esperar, el tiempo de ejecución empírico esta por debajo del peor caso teórico. \n",
        "\n",
        "Se puede deducir del gráfico, que no se acerca ni al mejor caso, ni al peor caso, así que, no es un código muy óptimo, pero no se acerca al peor caso."
      ],
      "metadata": {
        "id": "0LpupLb_HnWS"
      }
    },
    {
      "cell_type": "markdown",
      "source": [
        "## 5.2. Tiempo de ejecución (experimental)\n",
        "\n",
        "En el siguiente gráfico se grafica el tiempo de ejecución cuando el arreglo está casi ordenado.\n",
        "\n"
      ],
      "metadata": {
        "id": "D00YJ2QMiUXj"
      }
    },
    {
      "cell_type": "code",
      "source": [
        "import matplotlib.pyplot as plt\n",
        "\n",
        "x=[n for n in range(5,20)] \n",
        "y1=[n*(n-1)/2 for n in range(5,20)] # worst case\n",
        "y2=[n-1 for n in range(5,20)] # best case\n",
        "y=[]; \n",
        "\n",
        "for n in range(5,20):\n",
        "  a=[1,2,3,4,5,6,7,8,9,10,11,12,13,14,15,16,17,18,19,20,21,22,23,26,28,32,27,25]\n",
        "  a,counter = insertion_sort(a)\n",
        "  y.append(counter)\n",
        "\n",
        "plt.plot(x,y)\n",
        "plt.legend([\"Insertion sort\"])\n",
        "\n",
        "plt.title(\"Comparaciones realizadas con arreglo casi ordenado\", fontsize=15)\n",
        "plt.xlabel('n')\n",
        "plt.ylabel('number of operations')\n",
        "plt.show()"
      ],
      "metadata": {
        "colab": {
          "base_uri": "https://localhost:8080/",
          "height": 297
        },
        "id": "CYJfqNERioaM",
        "outputId": "76ea480a-4d3c-414e-b165-080fec6df276"
      },
      "execution_count": 118,
      "outputs": [
        {
          "output_type": "display_data",
          "data": {
            "text/plain": [
              "<Figure size 432x288 with 1 Axes>"
            ],
            "image/png": "[encoded data removed]"
          },
          "metadata": {
            "needs_background": "light"
          }
        }
      ]
    },
    {
      "cell_type": "markdown",
      "source": [
        "## 5.3. Tiempo de ejecución (experimental)\n",
        "\n",
        "En el siguiente gráfico se reporta el tiempo de ejecución del algoritmo **BubbleSort** en función del tamaño del problema para arreglos generados aleatoriamente de tamaños entre $5$ y $500$.\n",
        "\n"
      ],
      "metadata": {
        "id": "5AszHwkmJIfJ"
      }
    },
    {
      "cell_type": "code",
      "source": [
        "import random\n",
        "from termcolor import colored\n",
        "import copy\n",
        "\n",
        "def bubble_sort(a, verbose=False):\n",
        "    n = len(a)\n",
        "    T = 0 #contador de comparaciones\n",
        "\n",
        "    if verbose == True: print(\"input array:\",a)\n",
        "\n",
        "    for i in range(1,n+1):\n",
        "        if verbose == True: print(\"\\nPasada\",i)\n",
        "        # Flag que indica si el arreglo ya se encuentra ordenado\n",
        "        already_sorted = True\n",
        "\n",
        "        # Se recorre el arreglo\n",
        "        for j in range(n - i):\n",
        "            T +=1\n",
        "            if a[j] > a[j + 1]:\n",
        "                # Si el elemento es mayor al siguiente se intercambia\n",
        "                a[j], a[j + 1] = a[j + 1], a[j]\n",
        "                if verbose == True: \n",
        "                  print(str(a[:j+1])[1:-1],\",\",colored(f\"{str(a[j+2:])[1:-1]}\",\"red\"),\",\",str(a[j+2:])[1:-1])\n",
        "\n",
        "                already_sorted = False\n",
        "\n",
        "        if already_sorted == False and verbose == True: \n",
        "           print(\"\\nAl finalizar pasada:\")\n",
        "           print(str(a[:n-i])[1:-1],\",\",colored(f\"{str(a[n-i:])[1:-1]}\",\"blue\"))\n",
        "\n",
        "        if already_sorted:\n",
        "            if verbose == True: print(\"is sorted!\")\n",
        "            break\n",
        "\n",
        "    if verbose == True: print(\"\\noutput array:\",a)\n",
        "\n",
        "    return a, T\n",
        "\n",
        "# Ejemplo\n",
        "A = [5,8,7,1,3]\n",
        "print(\"Entrada: \",A)\n",
        "A, counter = bubble_sort(A)\n",
        "print(\"Salida: \",A)\n",
        "print(\"# comparaciones: \", counter)"
      ],
      "metadata": {
        "colab": {
          "base_uri": "https://localhost:8080/"
        },
        "id": "hpd_nNdqZ9g2",
        "outputId": "e08c49a1-f583-42f9-86bd-537e8aa05652"
      },
      "execution_count": 104,
      "outputs": [
        {
          "output_type": "stream",
          "name": "stdout",
          "text": [
            "Entrada:  [5, 8, 7, 1, 3]\n",
            "Salida:  [1, 3, 5, 7, 8]\n",
            "# comparaciones:  10\n"
          ]
        }
      ]
    },
    {
      "cell_type": "code",
      "source": [
        "import matplotlib.pyplot as plt\n",
        "import datetime\n",
        "from timeit import repeat\n",
        "\n",
        "x=[]; y=[]\n",
        "a=[]; b=[]\n",
        "for n in range(5,50):\n",
        "\n",
        "  a = random.sample(range(1, 1000), n)\n",
        "\n",
        "  t = repeat(setup=\"from __main__ import bubble_sort\", stmt=f\"bubble_sort({a})\", repeat=1, number=1)\n",
        "  r  = repeat(setup=\"from __main__ import insertion_sort\", stmt=f\"insertion_sort({a})\", repeat=1, number=2)\n",
        "\n",
        "  x.append(n)\n",
        "  y.append(t)\n",
        "  b.append(r)\n",
        "\n",
        "\n",
        "plt.plot(x,y,label=\"Bubble Sort\")\n",
        "plt.plot(x,b,label=\"Insertion Sort\")\n",
        "\n",
        "plt.legend()\n",
        "plt.title(\"BubbleSort vs InsertionSort Times Comparation\",fontsize=15)\n",
        "plt.xlabel('n')\n",
        "plt.ylabel('time in ms')\n",
        "plt.show()"
      ],
      "metadata": {
        "colab": {
          "base_uri": "https://localhost:8080/",
          "height": 297
        },
        "id": "Ffz2Id4WJPsO",
        "outputId": "18587219-ea05-48e9-81a9-61d49af5eaad"
      },
      "execution_count": 115,
      "outputs": [
        {
          "output_type": "display_data",
          "data": {
            "text/plain": [
              "<Figure size 432x288 with 1 Axes>"
            ],
            "image/png": "[encoded data removed]"
          },
          "metadata": {
            "needs_background": "light"
          }
        }
      ]
    },
    {
      "cell_type": "markdown",
      "source": [
        "### Análisis de resultados\n",
        "\n",
        "En el gráfico se puede apreciar, como era de esperarse, que el tiempo de jecución experimental se comporta de manera cuadrática en función del tamaño del problema (al igual que en el análisis teórico).\n",
        "Ambos algoritmos tienen tiempos muy similares, aunque realizando varios testeos, podemos observar que insertion sort es menos constante con sus tiempos, mostrando picks que evidencian su ineficiencia."
      ],
      "metadata": {
        "id": "8lSmgt-vvpWB"
      }
    }
  ]
}