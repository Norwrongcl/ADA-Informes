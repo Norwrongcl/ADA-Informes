{
  "nbformat": 4,
  "nbformat_minor": 0,
  "metadata": {
    "colab": {
      "provenance": [],
      "authorship_tag": "ABX9TyP0HxgjO5nP7IpjiOSMSZoF",
      "include_colab_link": true
    },
    "kernelspec": {
      "name": "python3",
      "display_name": "Python 3"
    },
    "language_info": {
      "name": "python"
    }
  },
  "cells": [
    {
      "cell_type": "markdown",
      "metadata": {
        "id": "view-in-github",
        "colab_type": "text"
      },
      "source": [
        "<a href=\"https://colab.research.google.com/github/Norwrongcl/ADA-Informes/blob/main/CuttingARod.ipynb\" target=\"_parent\"><img src=\"https://colab.research.google.com/assets/colab-badge.svg\" alt=\"Open In Colab\"/></a>"
      ]
    },
    {
      "cell_type": "markdown",
      "source": [
        "#1. Cutting a Rod\n",
        "**Entrada:** large de varilla $n$, vector de prices por cada medida $i = 1,...,n$.\n",
        "\n",
        "**Salida:** Retorno máximo $r_n$ que se puede obtener cortando la varilla y vendiendo las partes.\n",
        "\n",
        "![image](https://images3.programmerclick.com/564/b4/b4e504163cb70924ef094e37184ca85c.png)\n",
        "\n",
        "Supongamos que tenemos una tienda que vende **varillas de metal**. Para ello compramos varillas largas y cortas, que luego se cortan en varillas aún más pequeñas y cada medida teniendo su propio valor.\n",
        "En ella observamos que cada corte  tiene un precio en un rango $i = [1,10]$, naturalmente incrementando mientras mayor sea el tamaño del corte.Entonces debemos encontrar cuál es el retorno máximo que podemos obtener cortando dicha varilla.\n"
      ],
      "metadata": {
        "id": "1CK68iafcMJU"
      }
    },
    {
      "cell_type": "markdown",
      "source": [
        "#2. Cutting a Rod"
      ],
      "metadata": {
        "id": "8e97wiiXcuqt"
      }
    },
    {
      "cell_type": "markdown",
      "source": [
        "##2.1 Código\n",
        "El siguiente código muestra una implementación del algoritmo **Cutting a Rod** de dos maneras: recursiva (**Naive Implementation**) y por medio de programación dinámica (**acercamiento bottom-up**)."
      ],
      "metadata": {
        "id": "SntK987RcyTH"
      }
    },
    {
      "cell_type": "code",
      "execution_count": 85,
      "metadata": {
        "id": "NG_XxujkbcA7",
        "colab": {
          "base_uri": "https://localhost:8080/"
        },
        "outputId": "1f645567-894b-402a-ad47-10f4b8f75dc2"
      },
      "outputs": [
        {
          "output_type": "stream",
          "name": "stdout",
          "text": [
            "\u001b[1m\u001b[32mArreglo de precios: [10, 12, 22, 31, 31, 40, 40, 41]\u001b[0m\n",
            "\u001b[1m\u001b[34mLargo de varilla: 6\u001b[0m\n",
            "\u001b[1m\u001b[33mImplementación utilizada: Naive Implementation (recursiva)\u001b[0m\n",
            "\u001b[31mComparaciones: 63\u001b[0m\n",
            "\u001b[1m\u001b[33mRetorno máximo: 60\u001b[0m\n"
          ]
        }
      ],
      "source": [
        "import random\n",
        "from termcolor import cprint\n",
        "\n",
        "cont= 0\n",
        "ncuts= []\n",
        "subp= 0\n",
        "\n",
        "def tmax(a,b):                                                                  #Encuentra max porque no funciona\n",
        "  if a > b:\n",
        "    return a\n",
        "  return b\n",
        "\n",
        "#Implementación recursiva del algoritmo\n",
        "def naiveImplementation(prices, large, verbose=False):\n",
        "  global cont\n",
        "  if (large == 0): \n",
        "    if verbose: cprint(\"Largo 0, precio $0\",'red')\n",
        "    return 0;\n",
        "\n",
        "  valorM= 0\n",
        "  for i in range(1, large+1): \n",
        "    cont+= 1\n",
        "    if verbose: cprint(f\"Se hace el corte de varilla de una varilla de large {large-i}.\",'blue')\n",
        "    valorM = tmax(valorM, prices[i-1] + naiveImplementation(prices, large - i)) #Se calcula el valor máximo de forma recursiva\n",
        "    if verbose: cprint(f\"Máxima ganancia encontrada hasta ahora: {valorM}\",'green')\n",
        "  if verbose: cprint(f\"Se retorna {valorM} como máxima ganancia.\",'green',attrs=['underline','bold'])\n",
        "  return valorM                                                                 #Se retorna el retorno máximo encontrado\n",
        "\n",
        "\n",
        "\n",
        "#Implementación por medio de programación dinámica\n",
        "def bottomUpImplementation(prices, n, verbose):\n",
        "  global subp\n",
        "  maxRet= [-1]*(n+1)\n",
        "  maxRet[0]= 0                                                                  #El precio de la longitud 0 es $0\n",
        "  sizes= [-1]*(n+1)                                                             #Arreglo que almacena los cortes necesarios\n",
        "\n",
        "  for i in range(1, n+1):                                                       #Se recorre todo el arreglo\n",
        "    if verbose: cprint(f\"Varilla de largo {i}.\",'green',attrs=['bold'])\n",
        "    maxRetValue= -9999999\n",
        "    for j in range(1, i+1):\n",
        "      if verbose: cprint(f\"Caso: {j+1}.\",'blue')\n",
        "      maxRetValue= tmax(maxRetValue, prices[j]+maxRet[i-j-1])\n",
        "      if verbose: cprint(f\"Máxima ganancia encontrada hasta ahora: {maxRetValue}\",'green',attrs=['bold'])\n",
        "      sizes[i]= j\n",
        "    if (maxRet[i] == -1):\n",
        "      subp+=1\n",
        "    maxRet[i]= maxRetValue\n",
        "  return maxRet[n], sizes                                                       #Se retorna el retorno máximo encontrado\n",
        "\n",
        "\n",
        "\n",
        "#Función que genera prices para ser utilizados en cada implementación\n",
        "def cutPgen(N):\n",
        "  P= []\n",
        "  ant= 0\n",
        "  for i in range(N):\n",
        "    r=random.randint(0,10)\n",
        "    P.append(ant+r)\n",
        "    ant+=r\n",
        "  return P\n",
        "\n",
        "#Experimentos\n",
        "def test(opt,prices,verbose):\n",
        "  n= random.randint(1,10)\n",
        "  if opt == 1:\n",
        "    maxValue= naiveImplementation(prices, n, verbose)\n",
        "  if opt == 2:\n",
        "    maxm, cortes = bottomUpImplementation(prices, n, verbose)\n",
        "\n",
        "\n",
        "#Ejemplo\n",
        "def main(verbose):\n",
        "  opt= random.randint(1,2)\n",
        "  len= random.randint(6,10)\n",
        "  prices= cutPgen(len)\n",
        "  n= random.randint(1,len-1)\n",
        "  cprint(f\"Arreglo de precios: {prices}\", 'green', attrs=[\"bold\"])\n",
        "  cprint(f\"Largo de varilla: {n}\", 'blue', attrs=[\"bold\"])\n",
        "  if opt == 1:\n",
        "    cprint(\"Implementación utilizada: Naive Implementation (recursiva)\",'yellow',attrs=['bold'])\n",
        "    maxValue= naiveImplementation(prices, n, verbose)\n",
        "    cprint(f\"Comparaciones: {cont}\",'red')\n",
        "    cprint(f\"Retorno máximo: {maxValue}\", 'yellow', attrs=[\"bold\"])\n",
        "  if opt == 2:\n",
        "    cprint(\"Implementación utilizada: Bottom-Up (programación dinámica)\",'yellow',attrs=['bold'])\n",
        "    maxm, cortes = bottomUpImplementation(prices, n, verbose)\n",
        "    cprint(f\"Subproblemas solucionados: {subp}\", 'red', attrs=[\"bold\"])\n",
        "    cprint(f\"Retorno máximo: {maxm}\", 'magenta', attrs=[\"bold\"])\n",
        "    cprint(f\"Cantidad de cortes necesarios: {cortes[n]}\", 'green', attrs=[\"bold\"])\n",
        "\n",
        "main(verbose=False)"
      ]
    },
    {
      "cell_type": "markdown",
      "source": [
        "##2.2 Descripción del algoritmo\n",
        "Tal como fue mencionado, existe más de una forma para solucionar este problema. En este caso, se implementó una solución de dos formas distintas:\n",
        "\n",
        "### Implementación ingenua\n",
        "Este método se llama recursivamente y recibe un arreglo o lista de $i$ elementos, o en este caso, precios, y la longitud $n$ de la varilla a cortar. En general, los pasos que sigue esta solución es la siguiente:\n",
        "1. Recibe los datos. Si $n$ es menor o igual a $0$, se retorna de inmediato este dato. Éste será nuestro caso base.\n",
        "2. Se crea una variable $maxRet$ que irá almacenando los máximos retornos que se vayan encontrando en cada llamada recursiva.\n",
        "3. Luego, se recorre todo el arreglo de precios y en cada posición buscamos cuál es el mayor retorno en dicha iteración. Sin embargo, en vez de buscar en algún dato anterior o similar, comparamos $maxRet$ con el precio del corte en esa posición más una llamada recursiva a la función, la cual calculará cada máximo retorno anterior de cada posición.\n",
        "4. Finalmente, tan solo se retorna el máximo retorno encontrado.\n",
        "\n",
        "### Acercamiento bottom-up\n",
        "Puesto que aquí trabajamos bajo el paradigma de la **programación dinámica**, antes de explicar cómo funciona, podemos definir la subestructura óptima del problema. \n",
        "\n",
        "Como nuestra solución óptima, definida por un retorno máximo $r_n$, puede estar dada ya sea por el precio de la varilla completa, o de una subvarilla de precio $p_i$ más el retorno máximo de toda la varilla restante\n",
        "\n",
        "![image](https://docs.google.com/drawings/d/e/2PACX-1vS1PepvvczFdDNgTY9wP-LyEi5-n8mfg1q1xHeb6ycteXqI0N9vmGjkGG3PI3595JDBChGJeYrVGYP7/pub?w=785&h=407)\n",
        "\n",
        "Como vemos que este corte es óptimo, en definitiva cada subproblema siguiente, cada uno muy similar al anterior, se verá definida por este valor que nos devolverá la siguiente **función recursiva**:\n",
        "$r_n=\\max\\limits_{i=1..n}(p_i+r_{n-i})$, donde $n$ es la longitud máxima de la varilla, $p_i$ el valor del corte encontrado, y $r_{n-i}$ el retorno máximo del valor anterior. Y por último, y que es lo que diferencia a la variable recursiva, es que el **acercamiento bottom-up** guarda los subproblemas anteriores para luego utilizarlos con más facilidad en los casos posteriores.\n",
        "\n",
        "Con esta información, podemos describir el funcionamiento de esta implementación de la siguiente forma:\n",
        "1. Se crea un nuevo arreglo $maxRet$ que guardará cada nuevo retorno máximo encontrado en cada iteración. Puesto que un corte inexistente tiene un retorno máximo de 0, se define $maxRet[0]= 0$.\n",
        "2. Luego, se recorre el arreglo de precios, en donde además se recorre un subarreglo $[1,...,i]$, donde en cada iteración se irá comparando el valor **maxRetValue** con $precios[j]$ más un valor anterior del arreglo que almacena los retornos, en donde el mayor se guardará en la posición $maxRet[i]$.\n",
        "3. Por último, se retorna la $n$-ésima posición del arreglo $maxRet$, en donde se encontrará el máximo retorno encontrado para dicha longitud.\n",
        "\n",
        "Para ver paso a paso lo que sucede en cada implementación del algoritmo, `verbose` debe ser igual a `True`."
      ],
      "metadata": {
        "id": "6_oIox72c4sI"
      }
    },
    {
      "cell_type": "markdown",
      "source": [
        "##2.3 Ejemplo\n",
        "En esta demostración, consideraremos la implementación por programación dinámica, la cual, aunque tiene sus diferencias con la recursiva, finalmente como se observó anteriormente el procedimiento será similar, con la excepción de buscar las soluciones a los subproblemas previos, donde gracias al **acercamiento bottom-up** nos ahorramos resolver muchas veces innecesariamente un mismo subproblema. Como arreglo de precios, consideraremos aquel ejemplo visto en la descripción del problema, que sería el siguiente:\n",
        "\n",
        "![image](https://chartreuse-goal-d5c.notion.site/image/https%3A%2F%2Fs3-us-west-2.amazonaws.com%2Fsecure.notion-static.com%2F19c92da5-a1d0-4a76-b35c-6ba829aab554%2FUntitled.png?table=block&id=f1440f99-65ce-4bf7-9906-f6980a4b4ae5&spaceId=4f8bebe4-a843-44d2-b6ee-51e2006a90d1&width=1010&userId=&cache=v2)\n",
        "\n",
        ">Buscamos el máximo retorno de una varilla de largo $n = 6$. Comenzamos creando nuestro arreglo $r$ que guardará cada solución a un subproblema anterior. Su longitud será igual a $n$, y su posición $r[0]$ será igual a $0$.\n",
        "\n",
        "$r= [0]$\n",
        "\n",
        ">Iniciamos desde la posición $j = 1$ del primer ciclo, en donde buscaremos $r_1$. Cabe notar que al inicio de cada iteración en $j$ el valor $q$ siempre será igual a $-99999$. Así, para encontrar el primer valor de $r$ observamos lo siguiente:\n",
        "\n",
        ">Por lo tanto, luego de la iteración $1$ nuestro arreglo $r$ quedaría de la siguiente manera:\n",
        "\n",
        "$r = [0, 1]$\n",
        "\n",
        ">Luego continuamos con $j = 2$, es decir, $r_2$.\n",
        "\n",
        " $i = 1$: $p[1] + r[2-1] = 1 + 1 = 2$.\n",
        "\n",
        "$i = 2$: $p[2] + r[2-2] = 5 + 0 = 5$.\n",
        "\n",
        "$r_2 = 5$, agregándose al arreglo en cuestión.\n",
        "\n",
        "$r = [0, 1, 5]$\n",
        "\n",
        ">A continuación, $j = 3$, buscando $r_3$.\n",
        "\n",
        "$i = 1$: $p[1] + r[3-1] = 1 + 5 = 6$.\n",
        "\n",
        "$i = 2$: $p[2] + r[3-2] = 5 + 1 = 6$.\n",
        "\n",
        "$i = 3$: $p[3] + r[3-3] = 8 + 0 = 8$.\n",
        "\n",
        ">Así, $r_3 = 8$, siendo entonces este el valor de $r[3]$.\n",
        "\n",
        "$r = [0, 1, 5, 8]$\n",
        "\n",
        ">Ahora con $j = 4$, donde, por consecuente, calcularemos el valor de $r_4$.\n",
        "\n",
        "$i = 1$: $p[1] + r[4-1] = 1 + 8 = 9$.\n",
        "\n",
        "$i = 2$: $p[2] + r[4-2] = 5 + 5 = 10$.\n",
        "\n",
        "$i = 3$: $p[3] + r[4-3] = 8 + 1 = 9$. \n",
        "\n",
        "$i = 4$: $p[4] + r[3-3] = 9 + 0 = 9$.\n",
        "\n",
        ">Por lo tanto, $r_4 = 10$, es decir, $r[4] = 10$.\n",
        "\n",
        "$r = [0, 1, 5, 8, 10]$\n",
        "\n",
        ">Despúes, $j = 5$ para calcular $r_5$.\n",
        "\n",
        "$i = 1$: $p[1] + r[5-1] = 1 + 10 = 11$.\n",
        "\n",
        "$i = 2$: $p[2] + r[5-2] = 5 + 8 = 13$.\n",
        "\n",
        "$i = 3$: $p[3] + r[5-3] = 8 + 5 = 13$.\n",
        "\n",
        "$i = 4$: $p[4] + r[5-4] = 9 + 1 = 10$.\n",
        "\n",
        "$i = 5$: $p[5] + r[5-5] = 10 + 0 = 10$.\n",
        "\n",
        ">Por lo que tenemos que, en este caso, $r_5 = 13$, agregándose al arreglo que almacena estos valores.\n",
        "\n",
        "$r = [0, 1, 5, 8, 10, 13]$\n",
        "\n",
        ">...\n",
        "\n",
        "$i = 1$: $p[1] + r[6-1] = 1 + 13 = 14$.\n",
        "\n",
        "$i = 2$: $p[2] + r[6-2] = 5 + 10 = 15$.\n",
        "\n",
        "$i = 3$: $p[3] + r[6-3] = 8 + 8 = 16$.\n",
        "\n",
        "$i = 4$: $p[4] + r[6-4] = 9 + 5 = 14$.\n",
        "\n",
        "$i = 5$: $p[5] + r[6-5] = 10 + 1 = 11$.\n",
        "\n",
        "$i = 6$: $p[6] + r[6-6] = 17 + 0 = 17$.\n",
        "\n",
        ">$r = [0, 1, 5, 8, 10, 13,17]$\n",
        "\n",
        "Por lo tanto, al momento de retornar $r_n$, el retorno máximo para una varilla de largo $6$ con estos precios es de $17$."
      ],
      "metadata": {
        "id": "XXQ8TksvqOov"
      }
    },
    {
      "cell_type": "markdown",
      "source": [
        "## 2.4. Ejecución del algoritmo paso a paso (`verbose=True`)\n",
        "\n",
        "Usando la opción `verbose=True`, podemos ver lo que ocurre en cada iteración del algoritmo."
      ],
      "metadata": {
        "id": "5TZnpkE0dgta"
      }
    },
    {
      "cell_type": "code",
      "source": [
        "main(verbose=True)"
      ],
      "metadata": {
        "colab": {
          "base_uri": "https://localhost:8080/"
        },
        "id": "ZV6Q_kbYme7g",
        "outputId": "fcec495e-53bd-4aea-9d8f-6038bd1b9936"
      },
      "execution_count": 69,
      "outputs": [
        {
          "output_type": "stream",
          "name": "stdout",
          "text": [
            "\u001b[1m\u001b[32mArreglo de precios: [9, 10, 17, 27, 28, 29, 31, 35, 38]\u001b[0m\n",
            "\u001b[1m\u001b[34mLargo de varilla: 4\u001b[0m\n",
            "\u001b[1m\u001b[33mImplementación utilizada: Bottom-Up (programación dinámica)\u001b[0m\n",
            "\u001b[1m\u001b[32mVarilla de largo 1.\u001b[0m\n",
            "\u001b[34mCaso: 2.\u001b[0m\n",
            "\u001b[1m\u001b[32mMáxima ganancia encontrada hasta ahora: 9\u001b[0m\n",
            "\u001b[1m\u001b[32mVarilla de largo 2.\u001b[0m\n",
            "\u001b[34mCaso: 2.\u001b[0m\n",
            "\u001b[1m\u001b[32mMáxima ganancia encontrada hasta ahora: 10\u001b[0m\n",
            "\u001b[34mCaso: 3.\u001b[0m\n",
            "\u001b[1m\u001b[32mMáxima ganancia encontrada hasta ahora: 16\u001b[0m\n",
            "\u001b[1m\u001b[32mVarilla de largo 3.\u001b[0m\n",
            "\u001b[34mCaso: 2.\u001b[0m\n",
            "\u001b[1m\u001b[32mMáxima ganancia encontrada hasta ahora: 19\u001b[0m\n",
            "\u001b[34mCaso: 3.\u001b[0m\n",
            "\u001b[1m\u001b[32mMáxima ganancia encontrada hasta ahora: 19\u001b[0m\n",
            "\u001b[34mCaso: 4.\u001b[0m\n",
            "\u001b[1m\u001b[32mMáxima ganancia encontrada hasta ahora: 26\u001b[0m\n",
            "\u001b[1m\u001b[32mVarilla de largo 4.\u001b[0m\n",
            "\u001b[34mCaso: 2.\u001b[0m\n",
            "\u001b[1m\u001b[32mMáxima ganancia encontrada hasta ahora: 26\u001b[0m\n",
            "\u001b[34mCaso: 3.\u001b[0m\n",
            "\u001b[1m\u001b[32mMáxima ganancia encontrada hasta ahora: 26\u001b[0m\n",
            "\u001b[34mCaso: 4.\u001b[0m\n",
            "\u001b[1m\u001b[32mMáxima ganancia encontrada hasta ahora: 27\u001b[0m\n",
            "\u001b[34mCaso: 5.\u001b[0m\n",
            "\u001b[1m\u001b[32mMáxima ganancia encontrada hasta ahora: 27\u001b[0m\n",
            "\u001b[1m\u001b[31mSubproblemas solucionados: 9\u001b[0m\n",
            "\u001b[1m\u001b[35mRetorno máximo: 27\u001b[0m\n",
            "\u001b[1m\u001b[32mCantidad de cortes necesarios: 4\u001b[0m\n"
          ]
        }
      ]
    },
    {
      "cell_type": "markdown",
      "source": [
        "# 3. Tiempo de ejecución\n",
        "\n",
        "## Teorema: tiempo de ejecución\n",
        "\n",
        "El algoritmo *Cutting a Rod* tiene un tiempo de ejecución de $O(n^2)$ en su **peor caso**.\n",
        "\n",
        "## Prueba del teorema\n",
        "\n",
        "Para probar la veracidad del teorema anterior, primero se debe definir una función matemática que describa la cantidad de sub-problemas que se deben resolver en función del tamaño de entrada $n$, la cuál es la siguiente:\n",
        "\n",
        "$T(n)=\\sum\\limits_{i=1}^{n+1}\\sum\\limits_{j=0}^{i}c$\n",
        "\n",
        "Como se puede ver, esta función se compone de 2 sumatorias, las cuáles son el largo máximo de cada varilla, desde 1 hasta el largo ingresado y a los sub-problemas de cada varilla, en los que se calcula la ganancia máxima para cada largo de la varilla.\n",
        "\n",
        "$T(n)=c\\sum\\limits_{i=1}^{n+1}j$\n",
        "\n",
        "$T(n)=c*n(n+1)/2$\n",
        "\n",
        "$T(n) = O(n^2)$\n",
        "\n",
        "Gracias a función matemática anterior, podemos encontrar el tiempo de ejecución de cada sub-problema, el cuál es igual a $O(n)$ para cada uno. \n",
        "\n",
        "Finalmente, como el algoritmo **Cutting a Rod** basa su funcionamiento en dos sumatorias de $O(n)$, cada una con un tiempo de ejecución igual a $O(n)$, se puede comprobar que su tiempo de ejecución es de $O(n^2)$.\n",
        "\n",
        "## Complejidad espacial del algoritmo\n",
        "\n",
        "El algoritmo **Cutting a Rod** tiene una complejidad espacial de $O(n)$. Esto se debe a que este algoritmo utiliza un arreglo de largo $n$ (largo de la varilla) en el que va almacenando la ganancia máxima de venta de cada largo de la varilla desde 0 hasta $n + 1$."
      ],
      "metadata": {
        "id": "ygdK3m4CsyGF"
      }
    },
    {
      "cell_type": "markdown",
      "source": [
        "# 4. Correctitud\n",
        "\n",
        "## Teorema: correctitud del algoritmo **Cutting a Rod**\n",
        "\n",
        "**Cutting a Rod** recibe un arreglo de precios de venta para cada largo de varilla y un largo de varilla específico y retorna la máxima ganancia posible que se puede obtener al vender una varilla del largo ingresado al principio.\n",
        "\n",
        "## Prueba del teorema\n",
        "\n",
        "Para poder comprobar el teorema anterior se utilizará inducción matemática.\n",
        "\n",
        "**Caso base (n= 0)**\n",
        "\n",
        "Cuándo el largo de varilla ingresado es igual a 0, se retorna 0 inmediatamente ya que una varilla de este largo no puede generar ganancia alguna.\n",
        "\n",
        "**Paso inductivo (n> 0)**\n",
        "\n",
        "Para casos en los que la varilla tiene un largo mayor a 0, existen 2 opciones que derivan de la siguiente línea de código:\n",
        "\n",
        "`maxRetValue= tmax(maxRetValue, prices[j]+maxRet[i-j-1])`\n",
        "\n",
        "1. Cuándo `prices[j] + maxRet[i-j-1]` es mayor que `maxRetValue`, se asume que el sub-problema `prices[j] + maxRet[i - j - 1]` ya fué resuelto en iteraciones anteriores, por lo que se obtiene la ganancia máxima.\n",
        "\n",
        "2. Cuándo `maxRetValue` es mayor o igual, se obtiene la máxima ganancia por el largo de la varilla que se está evaluando en el momento.\n",
        "\n",
        "**Correctitud**\n",
        "\n",
        "Finalmente, como el caso base y paso inductivo son correctos, se concluye que el teorema de correctitud del algoritmo es correcto."
      ],
      "metadata": {
        "id": "oU5E1Auus1ZL"
      }
    },
    {
      "cell_type": "markdown",
      "source": [
        "# 5. Experimentos"
      ],
      "metadata": {
        "id": "OD-F7HZes4AY"
      }
    },
    {
      "cell_type": "markdown",
      "source": [
        "## 5.1 Cutting a Rod Bottom-Up v/s Cutting a Rod recursivo (tiempo de ejecución)\n",
        "\n",
        "En los gráficos que se muestran a continuación se visualizan los tiempos de ejecución de los algoritmos **Cutting a Rod** en función del tamaño del problema para arreglos generados aleatoriamente."
      ],
      "metadata": {
        "id": "l0pTGXaOhNCJ"
      }
    },
    {
      "cell_type": "code",
      "source": [
        "import matplotlib.pyplot as plt\n",
        "import datetime\n",
        "from timeit import repeat\n",
        "import random\n",
        "\n",
        "x=[]; y=[]; y2=[]\n",
        "verbose=False\n",
        "\n",
        "for n in range(10,500):\n",
        "\n",
        "  a= random.sample(range(1, 550), n)\n",
        "  print(a)\n",
        "  t= repeat(setup=\"from __main__ import test\", stmt=f\"test({2}, {a}, {verbose})\", repeat=1, number=20)\n",
        "  t2= repeat(setup=\"from __main__ import test\", stmt=f\"test({1}, {a},{verbose})\", repeat=1, number=20)\n",
        "\n",
        "  x.append(n)\n",
        "  y.append(t)\n",
        "  y2.append(t2)\n",
        "\n",
        "\n",
        "plt.plot(x,y)\n",
        "plt.plot(x,y2)\n",
        "plt.legend([\"cutRod\"])\n",
        "\n",
        "plt.xlabel('n')\n",
        "plt.ylabel('time in ms')\n",
        "plt.show()"
      ],
      "metadata": {
        "id": "2Ru-sfaVoeWW"
      },
      "execution_count": null,
      "outputs": []
    }
  ]
}