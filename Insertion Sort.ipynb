{
  "nbformat": 4,
  "nbformat_minor": 0,
  "metadata": {
    "colab": {
      "name": "Analisis y diseno de algoritmo.ipynb",
      "provenance": [],
      "authorship_tag": "ABX9TyPqTIsy3H7YrvhzB5gB3/th",
      "include_colab_link": true
    },
    "kernelspec": {
      "name": "python3",
      "display_name": "Python 3"
    },
    "language_info": {
      "name": "python"
    }
  },
  "cells": [
    {
      "cell_type": "markdown",
      "metadata": {
        "id": "view-in-github",
        "colab_type": "text"
      },
      "source": [
        "<a href=\"https://colab.research.google.com/github/Norwrongcl/ADA-Informes/blob/main/Insertion%20Sort.ipynb\" target=\"_parent\"><img src=\"https://colab.research.google.com/assets/colab-badge.svg\" alt=\"Open In Colab\"/></a>"
      ]
    },
    {
      "cell_type": "markdown",
      "source": [
        "# 1. Ordenamiento Secuencial\n",
        "\n",
        "**Entrada**: Cadena de n números $[a_1,a_2,...,a_n]$\n",
        "\n",
        "**Salida**: Secuencia ordenada de la entrada: $[a_1',a_2',...,a_n']$, tal que se cumple:  $a_1'\\leq a_2' \\leq... \\leq a_n'$.\n",
        "\n",
        "![image](https://i.imgur.com/78LvePE.png)\n",
        "\n",
        "Existen bastantes algoritmos de ordenamiento que han sido desarrollados a través del tiempo, tal vez, unos más eficientes que otros a pesar de su similaridad. El algoritmo expuesto en este informe no es el más eficiente, pero si es uno de los más sencillos. Cuando se ejecuta el ordenamiento por selección (Insertion Sort), el subarreglo al inicio del arreglo queda ordenado mientras que los valores que se agregan, se insertan desde un inicio en la posicion correcta.\n",
        "\n"
      ],
      "metadata": {
        "id": "jT2qsbCS3Fzu"
      }
    },
    {
      "cell_type": "markdown",
      "source": [
        "# 2. InsertionSort\n",
        "\n",
        "El siguiente código muestra una implementación del algoritmo **InsertionSort**."
      ],
      "metadata": {
        "id": "nn1Sn60L3mrJ"
      }
    },
    {
      "cell_type": "markdown",
      "source": [
        "## 2.1. Código"
      ],
      "metadata": {
        "id": "ye6dYlnqLNtD"
      }
    },
    {
      "cell_type": "code",
      "execution_count": 57,
      "metadata": {
        "id": "X6zMAoC1aos8",
        "colab": {
          "base_uri": "https://localhost:8080/"
        },
        "outputId": "774e666f-d3a5-4d39-cd11-366382891bea"
      },
      "outputs": [
        {
          "output_type": "stream",
          "name": "stdout",
          "text": [
            "Entrada: [8, 83, 44, 70, 21, 33]\n",
            "Salida: [8, 21, 33, 44, 70, 83]\n",
            "Comparaciones:  13\n"
          ]
        }
      ],
      "source": [
        "import random\n",
        "\n",
        "def insertion_sort(lista, verbose=False): #Funcion InsertionSort\n",
        "  cont=0\n",
        "  for i in range (1, len(lista)): #Comienza a recorrer el arreglo desde la posicion 1, ya que se asume que la posicion 0 está ordenada\n",
        "    temp=1\n",
        "    j=i\n",
        "    flag=True\n",
        "    aux= lista[i]\n",
        "    while lista[j-1]>aux and j>0: #Cuando se compara el valor de la casilla j con el valor de la casilla j-1,   si los valores  j < j-1 , se reemplazan, \n",
        "      flag=False                  # y se siguen comparando los valores anteriores mientras quedes casillas a la izquierda.\n",
        "      lista[j], lista[j-1] = lista[j-1], lista[j]\n",
        "      j-=1\n",
        "      temp+=1\n",
        "    if flag==False: #Se crea una variable para contar casos aparte, es decir, con esta bandera, se cuentan las comparaciones cuando los elementos se mueven de posición\n",
        "        cont+=temp\n",
        "    else: #Cuando el elemento de la derecha es efectivamente mayor al de la izquierda se realiza UNA sola comparación que hay que considerar y sumar.\n",
        "        cont+=1\n",
        "  return cont\n",
        "\n",
        "\n",
        "def main():\n",
        "  largo= random.randint(2,10)                              #_\n",
        "  lista= [random.randint(0, 100)for x in range (largo)]    # | Parámetros para crear una lista completamente aleatoria\n",
        "  print(\"Entrada:\", lista)                                 #_|\n",
        "  cont= insertion_sort(lista) # Se llama la funcion de ordenamiento mientras se guarda el valor que retorna la función, en este caso, la cantidad de comparaciones\n",
        "  print(\"Salida:\", lista)\n",
        "  print(\"Comparaciones: \", cont)\n",
        "\n",
        "main()"
      ]
    },
    {
      "cell_type": "markdown",
      "source": [
        "En cada iteración (pasada) se recorre e intercambian elementos en rojo.\n",
        "\n",
        "Note que al finalizar cada pasada, un nuevo elemento queda ordenado al final del arreglo (elementos en azul).\n",
        "\n",
        "\n",
        "\n"
      ],
      "metadata": {
        "id": "GXXxcYI38GFB"
      }
    },
    {
      "cell_type": "markdown",
      "source": [
        "## 2.2. Descripción del algoritmo\n",
        "\n",
        "*Insertion Sort* consta de tomar uno por uno los elementos de un arreglo y recorrerlo hacia su posición con respecto a los anteriormente ordenados. Así empieza con el segundo elemento y lo ordena con respecto al primero. Luego sigue con el tercero y lo coloca en su posición ordenada con respecto a los dos anteriores, así sucesivamente hasta recorrer todas las posiciones del arreglo.\n",
        "\n",
        "El algoritmo recibe como entrada una lista (o arreglo) $L$ con la secuencia de $n$ elementos que queremos ordenar. Luego, los elementos son ordenados dentro de la misma lista.\n",
        "\n",
        "1. En cada iteración `i`, el algoritmo recorre el arreglo comparando cada elemento `a[j]` con el elemento `a[j-1]`, siempre que `j>0`. Si `a[j]<a[j-1]`, entonces los elementos se intercambian de posiciones.\n",
        "\n",
        "2. Si el arreglo se encuentra ordenado, el algoritmo termina. Si no, se vuelve a recorrer (Primer paso).\n",
        "\n",
        "3. Al final, se imprime en pantalla la lista o arreglo ordenado y retorna un contador de comparaciones: `cont`.\n",
        "\n",
        "El algoritmo debe recorrer todo el arreglo, ya que en cada iteración un nuevo elemento ordenado se coloca al final del arreglo. Es decir, en cada iteración se tiene algo como la imagen:\n",
        "\n",
        "![image](https://i.imgur.com/jPyl1OG.png)\n",
        "\n",
        "Cuando la variable `verbose` == `True` se muestra información para ver lo que pasa paso a paso dentro de la función."
      ],
      "metadata": {
        "id": "XHIw15F97CnZ"
      }
    },
    {
      "cell_type": "markdown",
      "source": [
        "## 2.3. Ejemplo\n",
        "\n",
        "Consideremos, por ejemplo, la lista:\n",
        "\n",
        "*L* = $[4,3,5,1]$\n",
        "\n",
        "En la primera pasada comparamos el 4 con el 3 y como el 3 es menor, se intercambian, y pasamos a la siguiente iteración:\n",
        "\n",
        "*L* = $[3,4,5,1]$\n",
        "\n",
        "Luego, en la segunda iteración,como no existen más elementos a la izquierda del 3 se compara el 5 y el 4 y como están ordenados, no se intercambian:\n",
        "\n",
        "*L* = $[3,4,5,1]$\n",
        "\n",
        "Y en la tercera iteración analizamos al 1, 1 es menor a 5, entonces los intercambiamos:\n",
        "\n",
        "*L* = $[3,4,1,5]$\n",
        "\n",
        "Después, como existen más valores a la izquierda del 1, seguimos comparando, y como el 1 es menor al 4, se reemplazan:\n",
        "\n",
        "*L* = $[3,1,4,5]$\n",
        "\n",
        "Por último el 1 y el 3:\n",
        "\n",
        "*L* = $[1,3,4,5]$\n",
        "\n",
        "Y ya tenemos el arreglo ordenado."
      ],
      "metadata": {
        "id": "o0BhPA6mio_M"
      }
    },
    {
      "cell_type": "markdown",
      "source": [
        "## 2.4. Ejecución del algoritmo paso a paso (`verbose=True`)\n",
        "\n",
        "Usando la opción `verbose=True`, podemos ver lo que ocurre en cada iteración del algoritmo."
      ],
      "metadata": {
        "id": "5TZnpkE0dgta"
      }
    },
    {
      "cell_type": "code",
      "source": [
        "#insertar codigo"
      ],
      "metadata": {
        "id": "H_93UBKv8VQl"
      },
      "execution_count": null,
      "outputs": []
    },
    {
      "cell_type": "markdown",
      "source": [
        "# 3. Tiempo de ejecución\n",
        "\n",
        "### **Teorema (Tiempo de ejecución).**\n",
        "\n",
        "*El algoritmo **InsertionSort** tiene un **tiempo de ejecución de** $O(n^2/2)$ en el peor caso, y en su mejor caso $O(n)$*.\n",
        "\n",
        "## Prueba del teorema\n",
        "\n",
        "Observando el código, podemos apreciar que el **peor caso** ocurre cuando el arreglo está ordenado de **mayor a menor**. En este caso, en cada pasada el elemento se movería $n-1$ casillas a la izquierda, por lo que se necesitaría realizar:\n",
        "\n",
        "$n(n-1)/2$\n",
        "\n",
        "pasadas para que los elementos quedaran ordenados. "
      ],
      "metadata": {
        "id": "NmzbekC-4NNC"
      }
    }
  ]
}