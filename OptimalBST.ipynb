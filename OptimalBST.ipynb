{
  "nbformat": 4,
  "nbformat_minor": 0,
  "metadata": {
    "colab": {
      "provenance": [],
      "authorship_tag": "ABX9TyOIqA7aFzPQr+FxFwHu+bPi",
      "include_colab_link": true
    },
    "kernelspec": {
      "name": "python3",
      "display_name": "Python 3"
    },
    "language_info": {
      "name": "python"
    }
  },
  "cells": [
    {
      "cell_type": "markdown",
      "metadata": {
        "id": "view-in-github",
        "colab_type": "text"
      },
      "source": [
        "<a href=\"https://colab.research.google.com/github/Norwrongcl/ADA-Informes/blob/main/OptimalBST.ipynb\" target=\"_parent\"><img src=\"https://colab.research.google.com/assets/colab-badge.svg\" alt=\"Open In Colab\"/></a>"
      ]
    },
    {
      "cell_type": "markdown",
      "source": [
        "#1. Optimal Binary Search Tree\n",
        "**Entrada**: Secuencia ordenada de n claves: $K=\\left<k_1,k_2,...,k_n\\right>$. Cada clave $k_i$ tiene una probabilidad $p_i$ de ser buscada. Existen claves ficticias $d_i$ que representan búsquedas fallidas con $k_{i-1} \\leq d_i \\leq k_i$. Cada clave $d_i$ tiene una probabilidad $q_i$ de ser buscada. La suma de probabilidades debe ser uno, es decir: $\\sum\\limits_{i=1}^n p_i + \\sum\\limits_{j=0}^n q_i = 1$\n",
        "\n",
        "**Salida**: Un árbol de búsqueda óptimo, es decir, un árbol que minimice la cantidad esperada de nodos visitados (costo esperado).\n",
        "\n",
        "Los árboles binarios de búsqueda, también llamados **BST** (Binary Search Tree) son un tipo particular de árbol, el cual presenta una estructura de datos en esta forma. Éstos siempre tienen una raíz e hijos izquierdos y derecho, en donde se cumple que el subárbol izquierdo de cualquier nodo no vacío contiene valores menores a dicho nodo, y el subárbol derecho contiene sus valores mayores. Existen algoritmos implementados por medio del paradigma **programación dinámica**, existe aquel caso en donde queremos buscar un elemento, sin embargo, ya conocemos la frecuencia con la que será visitado cada uno. Por lo tanto, lo mejor sería construir un árbol que tenga los elementos más repetidos en la parte superior, y aquellos que no mucho más abajo. A esto lo llamaremos **árbol binario de búsqueda óptimo**.\n",
        "\n",
        "![image](https://cis.temple.edu/~wolfgang/cis551/Korsh_ch12_4-12_5/537_A.GIF)"
      ],
      "metadata": {
        "id": "XFZFwuRpjpE1"
      }
    },
    {
      "cell_type": "markdown",
      "source": [
        "#2. Árbol de búsqueda óptimo"
      ],
      "metadata": {
        "id": "AQyBD20DjtJc"
      }
    },
    {
      "cell_type": "markdown",
      "source": [
        "# 2. Descripcion del algoritmo\n",
        "\n",
        "Arbol binario de búsqueda óptimo funcionara de la siguiente manera:\n",
        "\n",
        "1. Primeramente se crea un matriz auxiliar que guardara los valores.\n",
        "\n",
        "2. Se realiza una comparacion segun los nodos, si tenemos un nodo donde el coste es igual a la frecuencia del nodo y el segundo caso para cuando tenemos mas de un nodo donde su frecuencia es igual al coste, calculandose su respectivo coste.\n",
        "\n",
        "3. Se guardan los valores iterativamente.\n",
        "\n",
        ">Arbol binario de búsqueda óptimo con programacion dinamica: A diferencia del recurisvo este es modificable en cualquier momento de su ejecucion permitiendo rotaciones de arboles. Tiene una ventaja en su complejidad a comparacion del Arbol binario de búsqueda óptimo recursivo debido a que por medio del guardado de las operaciones anteriormente hechas, no es necesario el resolverlas nuevamente logrando asi un clara ventaja en comparacion de crear este algoritmo de manera recursiva.\n",
        "\n",
        ">Arbol binario de búsqueda óptimo con programacion recursiva: El arbol puede ser modificado unicamente una sola vez que este ha sido construido. Este tipo de programacion es bastante ineficiente a comparacion de la programacion dinamica debido a que trantando de cumplir la misma funcion en este caso el costo optimo debe de resolver todos los subproblemas anteriores al actual debido a que estos no fueron almacenados en ninguna variable auxiliar, es por ello que aumentan significativamente su complejidad pero \"optimizan\" su memoria."
      ],
      "metadata": {
        "id": "Sb2POGltYeqq"
      }
    },
    {
      "cell_type": "markdown",
      "source": [
        "##2.1 Código\n",
        "A continuación, se presentan dos implementaciones del algoritmo estudiado: por recursión y por acercamiento bottom-up (programación dinámica)."
      ],
      "metadata": {
        "id": "KYBexHlkkLWz"
      }
    },
    {
      "cell_type": "code",
      "execution_count": 4,
      "metadata": {
        "colab": {
          "base_uri": "https://localhost:8080/"
        },
        "id": "ve0U3kOejjyj",
        "outputId": "ee00cd03-7008-4c7b-be26-4d97b2ce9040"
      },
      "outputs": [
        {
          "output_type": "stream",
          "name": "stdout",
          "text": [
            "\u001b[1m\u001b[31mElementos del árbol: [6, 7, 32, 33, 40, 66, 84]\u001b[0m\n",
            "\u001b[32mImplementación: Programación dinámica\u001b[0m\n",
            "\u001b[34mprueba: 0.9107277965450611\u001b[0m\n",
            "\u001b[33mSubproblemas resueltos: 28\u001b[0m\n"
          ]
        }
      ],
      "source": [
        "import random\n",
        "import numpy as np\n",
        "from termcolor import cprint\n",
        "\n",
        "subproblems = 0\n",
        "\n",
        "def recursive_optimalBST():\n",
        "  e = [[0 for x in range(n)] for y in range(n)]\n",
        "  return e[0][n-1]\n",
        "\n",
        "def dp_optimalBST(p, q, n):\n",
        "  global subproblems\n",
        "  e = [[0 for x in range(n)] for y in range(n)]\n",
        "  w = [[0 for x in range(n)] for y in range(n)]\n",
        "\n",
        "  for i in range(n):\n",
        "    e[i][i] = q[i]\n",
        "    w[i][i] = q[i]\n",
        "  \n",
        "  for l in range(1,n+1):\n",
        "    for i in range(n-l+1):\n",
        "      j = i + l - 1\n",
        "      e[i][j] = 999999\n",
        "      w[i][j] = w[i][j-1] + p[j] + q[j]\n",
        "      for r in range(i,j+1):\n",
        "        t = 0\n",
        "        if (r > i):\n",
        "          t += e[i][r-1]\n",
        "        if (r < i):\n",
        "          t += e[r+1][j]\n",
        "        t += w[i][j]\n",
        "        if t < e[i][j]:\n",
        "          subproblems+=1\n",
        "          e[i][j] = t\n",
        "  \n",
        "  return e[0][n-1]\n",
        "\n",
        "def optimal_bst_instance_generator(n):\n",
        "    keys = sorted(random.sample(range(1, 100), n))\n",
        "    arr = np.random.random(n*2+1)\n",
        "    arr /= arr.sum()\n",
        "    \n",
        "    p = list(arr[:n]) \n",
        "    q = arr[n:]\n",
        "    return keys, p, q\n",
        "\n",
        "# MAIN #\n",
        "n = random.randint(1,10)\n",
        "opt = random.randint(1,2)\n",
        "keys, p, q = optimal_bst_instance_generator(n)\n",
        "cprint(f\"Elementos del árbol: {keys}\", 'red', attrs=[\"bold\"])\n",
        "if (opt == 1):\n",
        "  cprint(\"Implementación: Programación dinámica\", 'green')\n",
        "  test = dp_optimalBST(p,q,n)\n",
        "  cprint(f\"prueba: {test}\",'blue')\n",
        "  cprint(f\"Subproblemas resueltos: {subproblems}\",'yellow')\n",
        "if (opt == 2):\n",
        "  cprint(\"Implementación: Recursiva\",'blue')\n",
        "  test = recursive_optimalBST()\n",
        "  cprint(f\"prueba: {test}\",'red')"
      ]
    }
  ]
}