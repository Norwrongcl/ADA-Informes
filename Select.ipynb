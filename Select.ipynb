{
  "nbformat": 4,
  "nbformat_minor": 0,
  "metadata": {
    "colab": {
      "provenance": [],
      "include_colab_link": true
    },
    "kernelspec": {
      "name": "python3",
      "display_name": "Python 3"
    },
    "language_info": {
      "name": "python"
    }
  },
  "cells": [
    {
      "cell_type": "markdown",
      "metadata": {
        "id": "view-in-github",
        "colab_type": "text"
      },
      "source": [
        "<a href=\"https://colab.research.google.com/github/Norwrongcl/ADA-Informes/blob/main/Select.ipynb\" target=\"_parent\"><img src=\"https://colab.research.google.com/assets/colab-badge.svg\" alt=\"Open In Colab\"/></a>"
      ]
    },
    {
      "cell_type": "markdown",
      "source": [
        "#1. Select\n",
        "**Entrada**: Conjunto de $n$ números diferentes $A$ y un índice $i$.\n",
        "\n",
        "**Salida**: Elemento $x\\in A$, que es mayor a exactamente $i-1$ elementos de $A$, siendo el elemento $x$ el estadístico de orden $i$-ésimo para el conjunto $A$.\n",
        "\n",
        "Saliendo del área de optimización, muchos algoritmos existen para ser utilizados en variabilidad, organización o análisis de datos, es decir, ** estadística**. Un concepto de esta disciplina es el llamado **estadístico de orden**, que corresponde al $k$-ésimo valor más pequeño de una muestra. Aunque por su característica pueda parecer como algo poco utilizado, la realidad es que estos valores son una herramienta fundamental dentro de la estadística no paramétrica o de inferencia, en donde los datos no están distribuidos bajo un criterio especificado. Así, el problema **select** está muy ligado a estos estadísticos, en donde manejamos la problemática de elegir el $i$-ésimo estadístico de orden en un conjunto de $n$ elementos.\n",
        "\n",
        "![image](https://th.bing.com/th/id/R.c1d17268821753c6a0de55e58c05ae2c?rik=hYrWjF%2fJQn6sHQ&riu=http%3a%2f%2fdraytonvalley.ca%2fwp-content%2fuploads%2f2014%2f08%2fStatistical-Data.jpg&ehk=AfR3wlGUZ3uqsgJ8VSavP8GMi%2fmNaDpu4vxnKGWQnEg%3d&risl=&pid=ImgRaw&r=0)"
      ],
      "metadata": {
        "id": "RqdKoo_T2C2E"
      }
    },
    {
      "cell_type": "markdown",
      "source": [
        "#2. Select"
      ],
      "metadata": {
        "id": "hdd20g5h2efE"
      }
    },
    {
      "cell_type": "markdown",
      "source": [
        "##2.1 Código\n",
        "A continuación, el siguiente código muestra la implementación del algoritmo."
      ],
      "metadata": {
        "id": "Om_KMHAV2gyj"
      }
    },
    {
      "cell_type": "code",
      "source": [
        "import random\n",
        "from termcolor import cprint\n",
        "\n",
        "comparisons = 0\n",
        "\n",
        "def insertion_sort (array, verbose):\n",
        "  if verbose == True: \n",
        "    cprint(\"Se ordena un arreglo!\", 'yellow', attrs=['bold'])\n",
        "    cprint(f\"Arreglo a ordenar: {array}\", 'green', attrs=['bold'])\n",
        "\n",
        "  global comparisons\n",
        "\n",
        "  for i in range (1, len(array)):\n",
        "    if verbose == True: cprint(f\"Pasada {i}\", 'blue', attrs=['bold'])\n",
        "    data = array[i]\n",
        "    k = i-1\n",
        "    if verbose == True:\n",
        "      if array[k] < data: cprint(\"Elemento no movido\\n\", 'red', attrs=['bold'])\n",
        "    while k >= 0 and array[k] > data:\n",
        "      array[k+1] = array[k]\n",
        "      k = k-1\n",
        "      comparisons+=1\n",
        "      if verbose == True: cprint(f\"{array}\\n\", 'magenta', attrs=['bold'])\n",
        "    array[k+1] = data\n",
        "    if verbose == True: cprint(f\"Al finalizar pasada: {array}\\n\", 'blue', attrs=['bold'])\n",
        "\n",
        "  if verbose == True: \n",
        "    cprint(f\"Arreglo ordenado: {array}\", 'blue', attrs=['bold'])\n",
        "    print(\"\\n\")\n",
        "\n",
        "  return array\n",
        "\n",
        "\n",
        "def encontrarMediana(A, verbose):\n",
        "  A = insertion_sort(A, verbose)\n",
        "  return (A[len(A) // 2])\n",
        "\n",
        "\n",
        "def partition(A, p, r, x, verbose):\n",
        "  if verbose == True:\n",
        "    cprint(\"Se entra a función partition!\", 'blue', attrs=['bold'])\n",
        "  global comparisons\n",
        "  \n",
        "\n",
        "  for i in range(p, r):\n",
        "    if (A[i] == x):\n",
        "      A[r], A[i] = A[i], A[r]\n",
        "\n",
        "      break\n",
        "\n",
        "  if verbose == True:\n",
        "    cprint(f\"Arreglo a dividir: {A[p:r+1]}\", 'blue', attrs=['bold'])\n",
        "  pivot = A[r]\n",
        "  if verbose == True:\n",
        "    cprint(f\"Pivote: [{A[r]}]\", 'blue', attrs=['bold'])\n",
        "  i = p\n",
        "  for j in range(p,r):\n",
        "    if A[j] <= pivot:\n",
        "      if verbose == True:\n",
        "        cprint(f\"{A[j]} es menor a {pivot}\", 'blue', attrs=['bold'])\n",
        "      A[j], A[i] = A[i], A[j]\n",
        "      i+=1\n",
        "      if verbose == True:\n",
        "        cprint(f\"Arreglo luego del intercambio: {A[p:r+1]}\", 'red', attrs=['bold'])\n",
        "\n",
        "  A[i], A[r] = A[r], A[i]\n",
        "  if verbose == True:\n",
        "    cprint(f\"Arreglo tras partition: {A[p:r+1]}\", 'green', attrs=['bold'])\n",
        "    print(\"\\n\")\n",
        "  return i\n",
        "\n",
        "def pivotSelection(A, l, r, verbose):\n",
        "  fiveDivision = [A[i:i + 5] for i in range(0, len(A), 5)]                                               \n",
        "  if verbose == True:\n",
        "    cprint(f\"Se divide el arreglo: {fiveDivision}\", 'magenta', attrs=['bold'])\n",
        "  medianas = [insertion_sort(sublista, verbose)[len(sublista)//2] for sublista in fiveDivision]\n",
        "  if verbose == True:\n",
        "    cprint(f\"Se obtienen las medianas: {medianas}\", 'cyan', attrs=['bold'])\n",
        "  if len(medianas) <= 5:\n",
        "    pivote = insertion_sort(medianas, verbose)[len(medianas)//2]\n",
        "  else:\n",
        "    pivote = pivotSelection(medianas, 0, len(medianas)//2, verbose)\n",
        "  \n",
        "  if verbose == True:\n",
        "    cprint(f\"La mediana de medianas (y nuestro pivote) es: [{pivote}]\", 'red', attrs=['bold'])\n",
        "    cprint(f\"Ya tenemos nuestro pivote, por lo que procedemos a particionar el arreglo {A[l:r+1]}\", 'yellow', attrs=['bold'])\n",
        "\n",
        "  return partition(A, l, r, pivote, verbose)\n",
        "\n",
        "def select(A, l, r, k, verbose):\n",
        "  if (k > 0 and k <= r - l + 1):\n",
        "    if verbose == True:\n",
        "      cprint(f\"Se busca pivote para el arreglo: {A[l:r+1]}\", 'green', attrs=['bold'])\n",
        "    q = pivotSelection(A, l, r, verbose)\n",
        "\n",
        "    if (q - l ==  k - 1):\n",
        "      if verbose == True: cprint(f\"Encontramos el k-ésimo menor elemento! = {A[q]}\", 'blue', attrs=['bold'])\n",
        "      return A[q]\n",
        "    \n",
        "    if (q - l > k - 1):\n",
        "      return select(A, l, q - 1, k, verbose)\n",
        "    return select (A, q+1, r, k - q + l - 1, verbose)\n",
        "\n",
        "#Ejemplo\n",
        "def main(verbose=False):\n",
        "  n = random.randint(6,10)\n",
        "  array = random.sample(range(1,100),n)\n",
        "  k = random.randint(1,n)\n",
        "  cprint(f\"Arreglo de entrada: {array}\", 'yellow', attrs=['bold'])\n",
        "  cprint(f\"k = {k}\", 'yellow')\n",
        "  element = select(array, 0, len(array)-1, k, verbose)\n",
        "  cprint(f\"k-ésimo menor elemento del arreglo: {element}\", 'green', attrs=['bold'])\n",
        "  cprint(f\"Número de comparaciones: {comparisons}\", 'blue', attrs=['bold'])\n",
        "\n",
        "main(False)"
      ],
      "metadata": {
        "id": "PKNbsMXI2EP4",
        "colab": {
          "base_uri": "https://localhost:8080/"
        },
        "outputId": "3a06f267-1049-4fd5-e2c3-7745da14146a"
      },
      "execution_count": null,
      "outputs": [
        {
          "output_type": "stream",
          "name": "stdout",
          "text": [
            "Arreglo de entrada: [80, 28, 90, 72, 54, 27, 30, 15, 76, 56]\n",
            "k = 3\n",
            "k-ésimo menor elemento del arreglo: 28\n",
            "Número de comparaciones: 23\n"
          ]
        }
      ]
    },
    {
      "cell_type": "markdown",
      "source": [
        "##2.2 Descripción del algoritmo\n",
        "El algoritmo **Select** es recursivo, llamándose a sí mismo un total de dos veces por cada recursion. Éste recibe un arreglo o lista de $n$ elementos, su posición inicial, su posición final y un valor $k$, con el cual buscaremos el $k$-ésimo menor elemento dentro de la lista. A diferencia de **R-Select**, **Select** elige su pivote con ayuda de la función **pivotSelection**. En términos generales, la implementación de este algoritmo aplica la siguiente rutina gracias al algoritmo recién mencionado:\n",
        "1. Al entrar a **pivotSelection**, el arreglo original de $n$ elementos se divide en $n/5$ grupos de 5 elementos cada uno, quedando el último grupo con menos elementos.\n",
        "2. Luego, se encuentra la mediana de cada subarreglo, ordenándose con **InsertionSort**.\n",
        "3. Se aplica de forma recursiva **pivotSelection** con tal de encontrar la mediana de medianas ($m$) de las $n/5$ medianas identificadas anteriormente.\n",
        "4. Así definimos a $m$ como el pivote para ser utilizado en la función **Partition**.\n",
        "5. Finalmente, se aplicará recursivamente **Select** con el subarreglo izquierdo o derecho, sea cual sea el correspondiente para buscar el $k$-ésimo menor elemento.\n",
        "\n",
        "Para ver paso a paso lo que sucede en el algoritmo, `verbose` debe ser igual a `True`."
      ],
      "metadata": {
        "id": "M1vxnNZxXEQ_"
      }
    },
    {
      "cell_type": "markdown",
      "source": [
        "##2.3 Ejemplo\n",
        "Para mostrar cómo funciona el algoritmo, trabajaremos con el siguiente arreglo. Estaremos buscando el menor elemento, es decir, $k = 1$.\n",
        "\n",
        "$A = [12, 3, 2, 9, 17, 0, 21, 7, 5, 4, 8, 11, 6, 15, 1]$\n",
        "\n",
        "Comenzaremos buscando la mejor partición con la cual trabajar, por lo que primero dividimos el arreglo en $n/5$,es decir que nos quedaran 3 subarreglos de 5 elementos cada uno, en este caso específico, considera 15 elementos, por lo que no habría ningún subarreglo menor a 5.\n",
        "\n",
        "$[12, 3, 2, 9, 17]$ - $[0, 21, 7, 5, 4]$ - $[8, 11, 6, 15, 1]$\n",
        "\n",
        "A continuación, ordenamos cada uno utilizando Insertion Sort, lo cual nos dejaría con los subarreglos de la siguiente forma.\n",
        "\n",
        "$[2, 3, 9, 12, 17]$ - $[0, 4, 5, 7, 21]$ - $[1, 6, 8, 11, 15]$\n",
        "\n",
        "Al tener estos, ahora obtenemos la mediana de cada uno, y las guardamos en el siguiente arreglo.\n",
        "\n",
        "$M = [9, 5, 8]$\n",
        "\n",
        "A continuación, aplicamos recursivamente **pivotSelection** con tal de encontrar la mediana de las medianas, contenida en el arreglo $M$. Por lo tanto, se ordena éste y buscamos su mediana.\n",
        "\n",
        "$M = [5, 8, 9]$\n",
        "\n",
        "Así, obtenemos a $8$ como nuestro pivote para particionar el arreglo $A$, que luego de haberse aplicado la función **Partition** se vería de la siguiente forma:\n",
        "\n",
        "$A = [3, 2, 0, 7, 5, 4, 6, 1, 8, 12, 9, 17, 21, 8, 11, 15]$\n",
        "\n",
        "Ahora bien, como estamos buscando el menor elemento trabajaremos con el subarreglo de la izquierda, es decir:\n",
        "\n",
        "$L = [3, 2, 0, 7, 5, 4, 6, 1]$\n",
        "\n",
        "Y puesto que este es un algoritmo recursivo, ahora aplicaremos nuevamente el procedimiento, pero ahora sobre el arreglo $L$. Así que, lo dividimos en subarreglos de $5$ elementos cada uno, pero como ahora la cantidad de elementos no es múltiplo de este número, tendremos un subarreglo con tan solo tres elementos.\n",
        "\n",
        "$[3, 2, 0, 7, 5]$ - $[4, 6, 1]$\n",
        "\n",
        "Ordenamos estos subarreglos, y buscamos sus medianas.\n",
        "\n",
        "$[0, 2, 3, 5, 7]$ - $[1, 4, 6]$\n",
        "\n",
        "$M = [3, 4]$\n",
        "\n",
        "Aplicamos **pivotSelection** en $M$, y encontramos que nuestra mediana de medianas es $3$, por lo que este será nuestro pivote para particionar el arreglo $L$.\n",
        "\n",
        "$L = [2, 0, 1, 3, 5, 4, 7, 6]$\n",
        "\n",
        "Nuevamente avanzamos solo con el subarreglo izquierdo, que contiene los valores menores a $3$.\n",
        "\n",
        "$L = [2, 0, 1]$\n",
        "\n",
        "Debido a que es un arreglo menor a $5$, tan solo debemos ordenarlo y obtener su mediana, quedando en lo siguiente.\n",
        "\n",
        "$L = [0, 1, 2]$\n",
        "\n",
        "La mediana es $1$, por lo que dividimos el arreglo nuevamente en otros dos subarreglos.\n",
        "\n",
        "$[0]$ - $[1, 2]$\n",
        "\n",
        "Finalmente, como estábamos buscando el menor elemento de todo el arreglo, concluimos en que éste es $0$."
      ],
      "metadata": {
        "id": "RZ3KbdogXG53"
      }
    },
    {
      "cell_type": "markdown",
      "source": [
        "##2.4 Ejecución del algoritmo paso a paso (`verbose = True`)\n",
        "Al determinar que `verbose` sea igual a `True` en todas las funciones, al ejecutar el programa mostrarán cómo se realiza todo paso a paso, tal como se ve a continuación:"
      ],
      "metadata": {
        "id": "e2wApD3mXJVW"
      }
    },
    {
      "cell_type": "code",
      "source": [
        "main(True)"
      ],
      "metadata": {
        "colab": {
          "base_uri": "https://localhost:8080/"
        },
        "id": "IKz1Yh_4XU_j",
        "outputId": "98ec570c-0c06-4621-f3f6-3de94cb733ed"
      },
      "execution_count": null,
      "outputs": [
        {
          "output_type": "stream",
          "name": "stdout",
          "text": [
            "Arreglo de entrada: [20, 74, 69, 25, 1, 81, 43, 76, 62, 64]\n",
            "k = 7\n",
            "Se busca pivote para el arreglo: [20, 74, 69, 25, 1, 81, 43, 76, 62, 64]\n",
            "Se divide el arreglo: [[20, 74, 69, 25, 1], [81, 43, 76, 62, 64]]\n",
            "Se ordena un arreglo!\n",
            "Arreglo a ordenar: [20, 74, 69, 25, 1]\n",
            "Pasada 1\n",
            "Elemento no movido\n",
            "\n",
            "Al finalizar pasada: [20, 74, 69, 25, 1]\n",
            "\n",
            "Pasada 2\n",
            "[20, 74, 74, 25, 1]\n",
            "\n",
            "Al finalizar pasada: [20, 69, 74, 25, 1]\n",
            "\n",
            "Pasada 3\n",
            "[20, 69, 74, 74, 1]\n",
            "\n",
            "[20, 69, 69, 74, 1]\n",
            "\n",
            "Al finalizar pasada: [20, 25, 69, 74, 1]\n",
            "\n",
            "Pasada 4\n",
            "[20, 25, 69, 74, 74]\n",
            "\n",
            "[20, 25, 69, 69, 74]\n",
            "\n",
            "[20, 25, 25, 69, 74]\n",
            "\n",
            "[20, 20, 25, 69, 74]\n",
            "\n",
            "Al finalizar pasada: [1, 20, 25, 69, 74]\n",
            "\n",
            "Arreglo ordenado: [1, 20, 25, 69, 74]\n",
            "\n",
            "\n",
            "Se ordena un arreglo!\n",
            "Arreglo a ordenar: [81, 43, 76, 62, 64]\n",
            "Pasada 1\n",
            "[81, 81, 76, 62, 64]\n",
            "\n",
            "Al finalizar pasada: [43, 81, 76, 62, 64]\n",
            "\n",
            "Pasada 2\n",
            "[43, 81, 81, 62, 64]\n",
            "\n",
            "Al finalizar pasada: [43, 76, 81, 62, 64]\n",
            "\n",
            "Pasada 3\n",
            "[43, 76, 81, 81, 64]\n",
            "\n",
            "[43, 76, 76, 81, 64]\n",
            "\n",
            "Al finalizar pasada: [43, 62, 76, 81, 64]\n",
            "\n",
            "Pasada 4\n",
            "[43, 62, 76, 81, 81]\n",
            "\n",
            "[43, 62, 76, 76, 81]\n",
            "\n",
            "Al finalizar pasada: [43, 62, 64, 76, 81]\n",
            "\n",
            "Arreglo ordenado: [43, 62, 64, 76, 81]\n",
            "\n",
            "\n",
            "Se obtienen las medianas: [25, 64]\n",
            "Se ordena un arreglo!\n",
            "Arreglo a ordenar: [25, 64]\n",
            "Pasada 1\n",
            "Elemento no movido\n",
            "\n",
            "Al finalizar pasada: [25, 64]\n",
            "\n",
            "Arreglo ordenado: [25, 64]\n",
            "\n",
            "\n",
            "La mediana de medianas (y nuestro pivote) es: [64]\n",
            "Ya tenemos nuestro pivote, por lo que procedemos a particionar el arreglo [20, 74, 69, 25, 1, 81, 43, 76, 62, 64]\n",
            "Se entra a función partition!\n",
            "Arreglo a dividir: [20, 74, 69, 25, 1, 81, 43, 76, 62, 64]\n",
            "Pivote: [64]\n",
            "20 es menor a 64\n",
            "Arreglo luego del intercambio: [20, 74, 69, 25, 1, 81, 43, 76, 62, 64]\n",
            "25 es menor a 64\n",
            "Arreglo luego del intercambio: [20, 25, 69, 74, 1, 81, 43, 76, 62, 64]\n",
            "1 es menor a 64\n",
            "Arreglo luego del intercambio: [20, 25, 1, 74, 69, 81, 43, 76, 62, 64]\n",
            "43 es menor a 64\n",
            "Arreglo luego del intercambio: [20, 25, 1, 43, 69, 81, 74, 76, 62, 64]\n",
            "62 es menor a 64\n",
            "Arreglo luego del intercambio: [20, 25, 1, 43, 62, 81, 74, 76, 69, 64]\n",
            "Arreglo tras partition: [20, 25, 1, 43, 62, 64, 74, 76, 69, 81]\n",
            "\n",
            "\n",
            "Se busca pivote para el arreglo: [74, 76, 69, 81]\n",
            "Se divide el arreglo: [[20, 25, 1, 43, 62], [64, 74, 76, 69, 81]]\n",
            "Se ordena un arreglo!\n",
            "Arreglo a ordenar: [20, 25, 1, 43, 62]\n",
            "Pasada 1\n",
            "Elemento no movido\n",
            "\n",
            "Al finalizar pasada: [20, 25, 1, 43, 62]\n",
            "\n",
            "Pasada 2\n",
            "[20, 25, 25, 43, 62]\n",
            "\n",
            "[20, 20, 25, 43, 62]\n",
            "\n",
            "Al finalizar pasada: [1, 20, 25, 43, 62]\n",
            "\n",
            "Pasada 3\n",
            "Elemento no movido\n",
            "\n",
            "Al finalizar pasada: [1, 20, 25, 43, 62]\n",
            "\n",
            "Pasada 4\n",
            "Elemento no movido\n",
            "\n",
            "Al finalizar pasada: [1, 20, 25, 43, 62]\n",
            "\n",
            "Arreglo ordenado: [1, 20, 25, 43, 62]\n",
            "\n",
            "\n",
            "Se ordena un arreglo!\n",
            "Arreglo a ordenar: [64, 74, 76, 69, 81]\n",
            "Pasada 1\n",
            "Elemento no movido\n",
            "\n",
            "Al finalizar pasada: [64, 74, 76, 69, 81]\n",
            "\n",
            "Pasada 2\n",
            "Elemento no movido\n",
            "\n",
            "Al finalizar pasada: [64, 74, 76, 69, 81]\n",
            "\n",
            "Pasada 3\n",
            "[64, 74, 76, 76, 81]\n",
            "\n",
            "[64, 74, 74, 76, 81]\n",
            "\n",
            "Al finalizar pasada: [64, 69, 74, 76, 81]\n",
            "\n",
            "Pasada 4\n",
            "Elemento no movido\n",
            "\n",
            "Al finalizar pasada: [64, 69, 74, 76, 81]\n",
            "\n",
            "Arreglo ordenado: [64, 69, 74, 76, 81]\n",
            "\n",
            "\n",
            "Se obtienen las medianas: [25, 74]\n",
            "Se ordena un arreglo!\n",
            "Arreglo a ordenar: [25, 74]\n",
            "Pasada 1\n",
            "Elemento no movido\n",
            "\n",
            "Al finalizar pasada: [25, 74]\n",
            "\n",
            "Arreglo ordenado: [25, 74]\n",
            "\n",
            "\n",
            "La mediana de medianas (y nuestro pivote) es: [74]\n",
            "Ya tenemos nuestro pivote, por lo que procedemos a particionar el arreglo [74, 76, 69, 81]\n",
            "Se entra a función partition!\n",
            "Arreglo a dividir: [81, 76, 69, 74]\n",
            "Pivote: [74]\n",
            "69 es menor a 74\n",
            "Arreglo luego del intercambio: [69, 76, 81, 74]\n",
            "Arreglo tras partition: [69, 74, 81, 76]\n",
            "\n",
            "\n",
            "Se busca pivote para el arreglo: [69]\n",
            "Se divide el arreglo: [[20, 25, 1, 43, 62], [64, 69, 74, 81, 76]]\n",
            "Se ordena un arreglo!\n",
            "Arreglo a ordenar: [20, 25, 1, 43, 62]\n",
            "Pasada 1\n",
            "Elemento no movido\n",
            "\n",
            "Al finalizar pasada: [20, 25, 1, 43, 62]\n",
            "\n",
            "Pasada 2\n",
            "[20, 25, 25, 43, 62]\n",
            "\n",
            "[20, 20, 25, 43, 62]\n",
            "\n",
            "Al finalizar pasada: [1, 20, 25, 43, 62]\n",
            "\n",
            "Pasada 3\n",
            "Elemento no movido\n",
            "\n",
            "Al finalizar pasada: [1, 20, 25, 43, 62]\n",
            "\n",
            "Pasada 4\n",
            "Elemento no movido\n",
            "\n",
            "Al finalizar pasada: [1, 20, 25, 43, 62]\n",
            "\n",
            "Arreglo ordenado: [1, 20, 25, 43, 62]\n",
            "\n",
            "\n",
            "Se ordena un arreglo!\n",
            "Arreglo a ordenar: [64, 69, 74, 81, 76]\n",
            "Pasada 1\n",
            "Elemento no movido\n",
            "\n",
            "Al finalizar pasada: [64, 69, 74, 81, 76]\n",
            "\n",
            "Pasada 2\n",
            "Elemento no movido\n",
            "\n",
            "Al finalizar pasada: [64, 69, 74, 81, 76]\n",
            "\n",
            "Pasada 3\n",
            "Elemento no movido\n",
            "\n",
            "Al finalizar pasada: [64, 69, 74, 81, 76]\n",
            "\n",
            "Pasada 4\n",
            "[64, 69, 74, 81, 81]\n",
            "\n",
            "Al finalizar pasada: [64, 69, 74, 76, 81]\n",
            "\n",
            "Arreglo ordenado: [64, 69, 74, 76, 81]\n",
            "\n",
            "\n",
            "Se obtienen las medianas: [25, 74]\n",
            "Se ordena un arreglo!\n",
            "Arreglo a ordenar: [25, 74]\n",
            "Pasada 1\n",
            "Elemento no movido\n",
            "\n",
            "Al finalizar pasada: [25, 74]\n",
            "\n",
            "Arreglo ordenado: [25, 74]\n",
            "\n",
            "\n",
            "La mediana de medianas (y nuestro pivote) es: [74]\n",
            "Ya tenemos nuestro pivote, por lo que procedemos a particionar el arreglo [69]\n",
            "Se entra a función partition!\n",
            "Arreglo a dividir: [69]\n",
            "Pivote: [69]\n",
            "Arreglo tras partition: [69]\n",
            "\n",
            "\n",
            "Encontramos el k-ésimo menor elemento! = 69\n",
            "k-ésimo menor elemento del arreglo: 69\n",
            "Número de comparaciones: 35\n"
          ]
        }
      ]
    },
    {
      "cell_type": "markdown",
      "source": [
        "#3. Correctitud"
      ],
      "metadata": {
        "id": "-RE14mG8XWq_"
      }
    },
    {
      "cell_type": "markdown",
      "source": [
        "##3.1 Teorema (correctitud de la función Select)\n",
        "*El algoritmo **Select** recibe un arreglo: $[a_1,a_2,a_3,...,a_n]$ y retorna su $k$-ésimo menor elemento.*"
      ],
      "metadata": {
        "id": "9KRYuDnuXf8C"
      }
    },
    {
      "cell_type": "markdown",
      "source": [
        "###Prueba del teorema\n",
        "Puesto que nuevamente estamos analizando un algoritmo **recursivo**, **Select** verá su teorema puesto a prueba por medio la inducción matemática, en donde consideraremos una hipótesis $P(n)$. Cabe notar que tan solo se comprueba la correctitud de Select debido a que, aunque **Pivot Selection** es una nueva función, en el fondo tan solo reutiliza algoritmos que ya sabemos son correctos, como Partition e Insertion Sort.\n",
        "\n",
        "**Hipótesis:** Select retorna el $k$-ésimo menor elemento de una secuencia de $n$ elementos.\n",
        "\n",
        "**Caso base ($n = 1$)**: Puesto que la cantidad de elementos es igual a $1$, el pivote será este valor, y $k$ no puede ser mayor a $n$. Así, Select retorna este elemento, por lo que $P(1)$ se cumple."
      ],
      "metadata": {
        "id": "gCFjKZxQZR9b"
      }
    },
    {
      "cell_type": "markdown",
      "source": [
        "**Paso inductivo ($m < n$):** Luego de haber comprobado que el caso base ($P(1)$) sí se cumple, procedemos a verificar aquellos casos donde se divide el problema. Al momento de obtener nuestro pivote, nuestro arreglo se particiona en dos subarreglos $[0,...,q-1]$ y $[q+1,...,n]$, siendo $q$ a su vez el posible $k$-ésimo menor elemento que buscamos."
      ],
      "metadata": {
        "id": "GwyHhbta8TOC"
      }
    },
    {
      "cell_type": "markdown",
      "source": [
        "Puesto que sabemos que el tamaño de todos los subarreglos serán **siempre menores a $n$**, gracias a la inducción matemática afirmamos que éstos contendrán los elementos menores y mayores al pivote encontrado respectivamente, cada cual pudiendo contener el elemento que estamos buscando.\n",
        "\n",
        "En conclusión, y luego de verificar que ambos casos se cumplen en nuestra hipótesis, podemos decir que **Select** es correcto.\n",
        "\n",
        "![imagen](https://i.imgur.com/unwF3s9.png)"
      ],
      "metadata": {
        "id": "zrc8XABVOuUp"
      }
    },
    {
      "cell_type": "markdown",
      "source": [
        "#4. Tiempo de ejecución"
      ],
      "metadata": {
        "id": "hq2r_RrIXYb-"
      }
    },
    {
      "cell_type": "markdown",
      "source": [
        "##4.1 Teorema\n",
        "El algoritmo **Select** tiene un tiempo de ejecución de $O(n)$ en el peor caso."
      ],
      "metadata": {
        "id": "8IIvN8mtW_qb"
      }
    },
    {
      "cell_type": "markdown",
      "source": [
        "##4.2 Prueba del teorema\n",
        "Para analizar si este teorema es efectivamente correcto, consideraremos al peor caso como aquel donde nuestro pivote se acerca demasiado ya sea al comienzo de nuestro arreglo, como al final de éste. Para encontrar nuestra ecuación bajo la cual trabajar. Por un lado, podemos considerar el costo de **Insertion Sort**, que al ser en arreglos de $5$ elementos o menos tiene un tiempo de ejecución $O(n)$, y por otro lado el encontrar la mediana de medianas posee un tiempo estimado de $T(\\frac{n}{5})$.\n",
        "\n",
        "Sin embargo, ¿sobre cuántos elementos estaremos trabajando en cada paso? Si consideramos a $M$ como la lista donde se contienen las medianas de cada sublista, dentro de ella la mitad de sus elementos son menores a la **mediana de medianas**, es decir, $\\frac{n}{10}$ elementos. En cada uno de estos, existen dos elementos que son menores a la mediana de medianas. Por lo tanto, son $\\frac{3n}{10}$ los menores, y en el peor caso, nuestro algoritmo deberá entonces trabajar con $\\frac{7n}{10}$ de ellos.\n",
        "\n",
        "Por lo tanto, nuestra **ecuación de recurrencia** para el algoritmo Select en el peor caso es de:\n",
        "\n",
        "> $T(n)= O(n) + T\\left(\\frac{n}{5}\\right)+T\\left(\\frac{7n}{10}\\right)$\n",
        "\n",
        "Luego, para resolver esta ecuación, utilizaremos el método de **inducción**, el cual se desarrolla de la siguiente forma:\n",
        "\n",
        "![imagen](https://i.imgur.com/NMRTUX8.png)"
      ],
      "metadata": {
        "id": "JlxbpqQkRz9R"
      }
    },
    {
      "cell_type": "markdown",
      "source": [
        "Por lo tanto, y gracias a este desarrollo matemático-inductivo, podemos concluir que, efectivamente, el tiempo de ejecución en el peor caso de **Select** es **$O(n)$**."
      ],
      "metadata": {
        "id": "0QgBzwBPchnQ"
      }
    },
    {
      "cell_type": "markdown",
      "source": [
        "#5. Experimentos"
      ],
      "metadata": {
        "id": "06TtcHa3Xiim"
      }
    },
    {
      "cell_type": "markdown",
      "source": [
        "##5.1 Número de comparaciones\n",
        "A continuación, ahora considerando el algoritmo **Select**, compararemos gráficamente entre:\n",
        "\n",
        "*   cantidad de comparaciones del peor caso calculadas matemáticamente ($O(n)$),\n",
        "*   cantidad de comparaciones en el mejor caso ($\\theta(n)$)\n",
        "*   y la cantidad de comparaciones entre entradas ordenadas aleatoriamente.\n",
        "\n",
        "Esto para arreglos de tamaño $n$ entre 5 y 99. Los arreglos aleatorios serán llenados con números entre 1 y 100. "
      ],
      "metadata": {
        "id": "i0xuDo0heFxk"
      }
    },
    {
      "cell_type": "code",
      "source": [
        "import matplotlib.pyplot as plt\n",
        "import math\n",
        "import random\n",
        "\n",
        "x = [n for n in range(5,100)]\n",
        "y1 = [n for n in range(5,100)] #Peor caso\n",
        "y2 = [n for n in range(5,100)] #Mejor caso\n",
        "y = []\n",
        "\n",
        "for n in range(5, 100):\n",
        "  comparisons = 0\n",
        "  array = random.sample(range(1,100), n)\n",
        "  k = random.randint(1,n)\n",
        "  elemento = select(array, 0, len(array)-1, k, verbose = False)\n",
        "  y.append(comparisons)\n",
        "\n",
        "plt.plot(x,y)\n",
        "plt.plot(x,y1)\n",
        "plt.plot(x,y2)\n",
        "plt.legend([\"Select\",\"Peor caso teórico\",\"Mejor caso teórico\"])\n",
        "\n",
        "plt.xlabel(\"n\")\n",
        "plt.ylabel(\"Número de comparaciones\")\n",
        "plt.show()"
      ],
      "metadata": {
        "id": "QAwr2uL0ePiA",
        "colab": {
          "base_uri": "https://localhost:8080/",
          "height": 279
        },
        "outputId": "552a639e-c149-41ad-a344-02696d55e99c"
      },
      "execution_count": null,
      "outputs": [
        {
          "output_type": "display_data",
          "data": {
            "text/plain": [
              "<Figure size 432x288 with 1 Axes>"
            ],
            "image/png": "[encoded data removed]"
          },
          "metadata": {
            "needs_background": "light"
          }
        }
      ]
    },
    {
      "cell_type": "markdown",
      "source": [
        "###Análisis de resultados\n",
        "De forma inusual, podemos observar como en nuestro gráfico el algoritmo estudiado se comporta de forma muy inestable, aunque manteniendo una cierta linealidad al momento de aumentar el número de comparaciones, acercándose en ciertos momentos a la representación de tanto su peor como mejor caso teórico. Aunque el algoritmo funciona y se sabe que fue implementado de forma correcta, esta inestabilidad se puede deber a diferentes factores, como la aleatoridad de los números, el uso de **Insertion Sort** como algoritmo de ordenamiento o una recursividad muy extensa dentro de la función **Pivot Selection**, debido a la constante llamada a **Partition** que ya de por sí tiene otro costo.\n"
      ],
      "metadata": {
        "id": "kfEjG3CteNwH"
      }
    },
    {
      "cell_type": "markdown",
      "source": [
        "##5.2 Comparación del tiempo de ejecución entre Select y R-Select\n",
        "En este experimento, se evaluarán y compararán los tiempos de ejecución de nuestro algoritmo estudiado y **Randomized Select**, el cual funciona de manera similar, pero con el uso de un pivote aleatorio. A comparación de Select, R-Select posee un peor caso teórico $O(n^2)$."
      ],
      "metadata": {
        "id": "0UIx1cJ6eP-j"
      }
    },
    {
      "cell_type": "code",
      "source": [
        "def partition_end(A, p, r):\n",
        "  pivot = A[r]\n",
        "  i = p \n",
        "  for j in range(p,r): \n",
        "    if A[j] <= pivot:\n",
        "      A[j], A[i] = A[i], A[j] \n",
        "      i+=1\n",
        "  A[i], A[r] = A[r], A[i]\n",
        "  return i\n",
        "\n",
        "def randomizedPartition(A, p, r):\n",
        "  i = random.randint(p,r)\n",
        "  A[r], A[i] = A[i], A[r]\n",
        "  return partition_end(A, p, r)\n",
        "\n",
        "def randomizedSelect(A, p, r, k):\n",
        "  if p == r:\n",
        "    return A[p]\n",
        "  q = randomizedPartition(A, p, r)\n",
        "  i = q - p + 1\n",
        "  if (i == k):\n",
        "    return A[q]\n",
        "  elif k < i:\n",
        "    return randomizedSelect(A, p, r-1, k)\n",
        "  else:\n",
        "    return randomizedSelect(A, q+1, r, k-i)"
      ],
      "metadata": {
        "id": "AURgTq_1QD6T"
      },
      "execution_count": null,
      "outputs": []
    },
    {
      "cell_type": "code",
      "source": [
        "import random\n",
        "import datetime\n",
        "from timeit import repeat\n",
        "\n",
        "x1 = []; y1 = []; y2 = []\n",
        "verbose = False\n",
        "\n",
        "for n in range(5, 500):\n",
        "  array = random.sample(range(1,1000), n)\n",
        "  k = random.randint(1,n)\n",
        "\n",
        "  r = repeat(setup=\"from __main__ import select\", stmt = f\"select({array},{0},{len(array)-1},{k},{verbose})\", repeat = 1, number = 10)\n",
        "  y1.append(r)\n",
        "  t = repeat(setup=\"from __main__ import randomizedSelect\", stmt = f\"randomizedSelect({array},{0},{len(array)-1},{k})\", repeat = 1, number = 10)\n",
        "  y2.append(t)\n",
        "\n",
        "  x1.append(n)\n",
        "\n",
        "plt.plot(x1,y1)\n",
        "plt.plot(x1,y2)\n",
        "plt.legend([\"Select\",\"R-Select\"])\n",
        "\n",
        "plt.xlabel(\"n\")\n",
        "plt.ylabel(\"Tiempo en ms\")\n",
        "plt.show()"
      ],
      "metadata": {
        "id": "qdD-5V4neWG1"
      },
      "execution_count": null,
      "outputs": []
    },
    {
      "cell_type": "markdown",
      "source": [
        "###Análisis de resultados\n",
        "Como se puede observar en el gráfico, en un comienzo R-Select resulta ser más eficiente que nuestro algoritmo estudiado, ejecutándose en una menor cantidad de tiempo. Sin embargo, mientras la cantidad de elementos va aumentando es posible notar cómo R-Select termina siendo similar a Select, pero aún más inestable. Esto se puede deber principalmente a la selección del pivote, el cual, como es aleatorio, puede resultar en una ejecución un tanto más \"inesperada\", o en otras palabras, Partition podría trabajar desde su mejor caso hasta el peor. También cabe recalcar que otra causa para estos *peaks* es la inestabilidad del hardware sobre el que se ejecuta el programa."
      ],
      "metadata": {
        "id": "wzcWkSXMeWZP"
      }
    }
  ]
}